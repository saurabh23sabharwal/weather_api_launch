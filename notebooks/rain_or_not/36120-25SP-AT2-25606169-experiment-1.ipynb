{
 "cells": [
  {
   "cell_type": "markdown",
   "metadata": {
    "id": "uQ6wc2HE0pke"
   },
   "source": [
    "# **Experiment Notebook**\n",
    "\n"
   ]
  },
  {
   "cell_type": "code",
   "execution_count": 1,
   "metadata": {
    "id": "qNOA146K2c6f"
   },
   "outputs": [
    {
     "name": "stderr",
     "output_type": "stream",
     "text": [
      "\n",
      "[notice] A new release of pip is available: 25.1.1 -> 25.2\n",
      "[notice] To update, run: python.exe -m pip install --upgrade pip\n"
     ]
    }
   ],
   "source": [
    "# Do not modify this code\n",
    "!pip install -q utstd\n",
    "\n",
    "from utstd.ipyrenders import *"
   ]
  },
  {
   "cell_type": "code",
   "execution_count": 2,
   "metadata": {
    "id": "6FneOmBfka9G"
   },
   "outputs": [],
   "source": [
    "# Do not modify this code\n",
    "import warnings\n",
    "warnings.simplefilter(action='ignore')"
   ]
  },
  {
   "cell_type": "markdown",
   "metadata": {
    "id": "mXFKfa2tp1ch"
   },
   "source": [
    "## 0. Import Packages"
   ]
  },
  {
   "cell_type": "code",
   "execution_count": 3,
   "metadata": {
    "id": "GBEAwdncnlAx"
   },
   "outputs": [],
   "source": [
    "# <Student to fill this section>\n",
    "import json\n",
    "from api_helper_saurabh.data.sets import fetch_api_v0, fetch_api_v1\n",
    "\n",
    "import pandas as pd\n",
    "import numpy as np\n",
    "\n",
    "from pathlib import Path\n",
    "\n",
    "import matplotlib.pyplot as plt\n",
    "import seaborn as sns\n",
    "\n",
    "from sklearn.ensemble import RandomForestClassifier\n",
    "from sklearn.feature_selection import RFE\n",
    "\n",
    "from sklearn.pipeline import Pipeline\n",
    "from sklearn.preprocessing import FunctionTransformer, StandardScaler\n",
    "from sklearn.compose import ColumnTransformer\n",
    "\n",
    "from sklearn.model_selection import train_test_split"
   ]
  },
  {
   "cell_type": "code",
   "execution_count": 4,
   "metadata": {},
   "outputs": [],
   "source": [
    "# pip install api_helper_saurabh"
   ]
  },
  {
   "cell_type": "markdown",
   "metadata": {
    "id": "tQgxLRrvjiJb"
   },
   "source": [
    "---\n",
    "## A. Project Description\n"
   ]
  },
  {
   "cell_type": "code",
   "execution_count": 5,
   "metadata": {
    "id": "Je1EzzfFD5hj"
   },
   "outputs": [],
   "source": [
    "# <Student to fill this section>\n",
    "student_name = \"Saurabh Sabharwal\"\n",
    "student_id = \"25606169\""
   ]
  },
  {
   "cell_type": "code",
   "execution_count": 6,
   "metadata": {
    "id": "pdKiYvFWD5my"
   },
   "outputs": [
    {
     "data": {
      "text/html": [
       "<p style=\"color:grey\">student_name</p><h1 font-size: 3em>Saurabh Sabharwal</h1>"
      ],
      "text/plain": [
       "<IPython.core.display.HTML object>"
      ]
     },
     "metadata": {},
     "output_type": "display_data"
    }
   ],
   "source": [
    "# Do not modify this code\n",
    "print_tile(size=\"h1\", key='student_name', value=student_name)"
   ]
  },
  {
   "cell_type": "code",
   "execution_count": 7,
   "metadata": {
    "id": "9KTEbRjqD5o_"
   },
   "outputs": [
    {
     "data": {
      "text/html": [
       "<p style=\"color:grey\">student_id</p><h1 font-size: 3em>25606169</h1>"
      ],
      "text/plain": [
       "<IPython.core.display.HTML object>"
      ]
     },
     "metadata": {},
     "output_type": "display_data"
    }
   ],
   "source": [
    "# Do not modify this code\n",
    "print_tile(size=\"h1\", key='student_id', value=student_id)"
   ]
  },
  {
   "cell_type": "markdown",
   "metadata": {
    "id": "4q1Bzcejvfpm"
   },
   "source": [
    "---\n",
    "## B. Business Understanding"
   ]
  },
  {
   "cell_type": "code",
   "execution_count": 8,
   "metadata": {
    "id": "Mmo6apC9EEv8"
   },
   "outputs": [],
   "source": [
    "# <Student to fill this section>\n",
    "business_use_case_description = \"\"\"\n",
    "The goal of this project is to clean a dataset, transform it and make a model that predicts if it's going to rain or not in t+7 days\n",
    "\"\"\""
   ]
  },
  {
   "cell_type": "code",
   "execution_count": 9,
   "metadata": {
    "id": "bgb0DkG2EE2e"
   },
   "outputs": [
    {
     "data": {
      "text/html": [
       "<p style=\"color:grey\">business_use_case_description</p><h3 font-size: 3em>\n",
       "The goal of this project is to clean a dataset, transform it and make a model that predicts if it's going to rain or not in t+7 days\n",
       "</h3>"
      ],
      "text/plain": [
       "<IPython.core.display.HTML object>"
      ]
     },
     "metadata": {},
     "output_type": "display_data"
    }
   ],
   "source": [
    "# Do not modify this code\n",
    "print_tile(size=\"h3\", key='business_use_case_description', value=business_use_case_description)"
   ]
  },
  {
   "cell_type": "code",
   "execution_count": 10,
   "metadata": {
    "id": "29Yqk3d2EE8q"
   },
   "outputs": [],
   "source": [
    "# <Student to fill this section>\n",
    "business_objectives = \"\"\"\n",
    "Accuracy of results will impact weather reporting.\n",
    "\"\"\""
   ]
  },
  {
   "cell_type": "code",
   "execution_count": 11,
   "metadata": {
    "id": "sSu_8J96EFDs"
   },
   "outputs": [
    {
     "data": {
      "text/html": [
       "<p style=\"color:grey\">business_objectives</p><h3 font-size: 3em>\n",
       "Accuracy of results will impact weather reporting.\n",
       "</h3>"
      ],
      "text/plain": [
       "<IPython.core.display.HTML object>"
      ]
     },
     "metadata": {},
     "output_type": "display_data"
    }
   ],
   "source": [
    "# Do not modify this code\n",
    "print_tile(size=\"h3\", key='business_objectives', value=business_objectives)"
   ]
  },
  {
   "cell_type": "code",
   "execution_count": 12,
   "metadata": {
    "id": "Hf4ThY5cEF5W"
   },
   "outputs": [],
   "source": [
    "# <Student to fill this section>\n",
    "stakeholders_expectations_explanations = \"\"\"\n",
    "The results can be used to publish weather update in Sydney. Client for this data and project is weather reporting agencies, and end users are going to be residents of Sydney, farmers, sports authorities (deciding which dates to select for a open-stadium matches)\n",
    "\"\"\""
   ]
  },
  {
   "cell_type": "code",
   "execution_count": 13,
   "metadata": {
    "id": "jH9a2X70EF8M"
   },
   "outputs": [
    {
     "data": {
      "text/html": [
       "<p style=\"color:grey\">stakeholders_expectations_explanations</p><h3 font-size: 3em>\n",
       "The results can be used to publish weather update in Sydney. Client for this data and project is weather reporting agencies, and end users are going to be residents of Sydney, farmers, sports authorities (deciding which dates to select for a open-stadium matches)\n",
       "</h3>"
      ],
      "text/plain": [
       "<IPython.core.display.HTML object>"
      ]
     },
     "metadata": {},
     "output_type": "display_data"
    }
   ],
   "source": [
    "# Do not modify this code\n",
    "print_tile(size=\"h3\", key='stakeholders_expectations_explanations', value=stakeholders_expectations_explanations)"
   ]
  },
  {
   "cell_type": "markdown",
   "metadata": {
    "id": "P0zsEPshwy1K"
   },
   "source": [
    "---\n",
    "## C. Data Understanding"
   ]
  },
  {
   "cell_type": "markdown",
   "metadata": {
    "id": "sGMWhKSbUl63"
   },
   "source": [
    "### C.1   Load Datasets\n"
   ]
  },
  {
   "cell_type": "markdown",
   "metadata": {},
   "source": [
    "#### General"
   ]
  },
  {
   "cell_type": "code",
   "execution_count": 14,
   "metadata": {},
   "outputs": [],
   "source": [
    "url_api = \"https://archive-api.open-meteo.com/v1/archive?latitude=-33.8678&longitude=151.2073&start_date=2022-09-28&end_date=2025-09-28&daily=temperature_2m_mean,temperature_2m_max,temperature_2m_min,sunshine_duration,rain_sum,precipitation_sum,precipitation_hours,wind_speed_10m_max,wind_direction_10m_dominant&hourly=temperature_2m,wind_speed_100m,wind_direction_100m,soil_moisture_0_to_7cm,soil_moisture_7_to_28cm,soil_temperature_0_to_7cm,soil_temperature_7_to_28cm,cloud_cover,cloud_cover_low,cloud_cover_mid,cloud_cover_high,vapour_pressure_deficit,rain,precipitation,relative_humidity_2m,surface_pressure,direct_radiation_instant&timezone=Australia%2FSydney&wind_speed_unit=ms&timeformat=unixtime\""
   ]
  },
  {
   "cell_type": "code",
   "execution_count": 15,
   "metadata": {
    "scrolled": true
   },
   "outputs": [],
   "source": [
    "url = \"https://archive-api.open-meteo.com/v1/archive\"\n",
    "\n",
    "params = {\n",
    "    \"latitude\": -33.8678,\n",
    "    \"longitude\": 151.2073,\n",
    "    \"start_date\": \"2015-09-15\",\n",
    "    \"end_date\": \"2025-09-15\",   # shorten for test\n",
    "    \"daily\": \"temperature_2m_mean,temperature_2m_max,temperature_2m_min,sunshine_duration,rain_sum,precipitation_sum,precipitation_hours,wind_speed_10m_max,wind_direction_10m_dominant\",\n",
    "    \"hourly\": \"temperature_2m,wind_speed_100m,wind_direction_100m,soil_moisture_0_to_7cm,soil_moisture_7_to_28cm,soil_temperature_0_to_7cm,soil_temperature_7_to_28cm,cloud_cover,cloud_cover_low,cloud_cover_mid,cloud_cover_high,vapour_pressure_deficit,rain,precipitation,relative_humidity_2m,surface_pressure,direct_radiation_instant\",\n",
    "    \"timezone\": \"Australia/Sydney\",\n",
    "    \"wind_speed_unit\": \"ms\",\n",
    "    \"timeformat\": \"unixtime\"\n",
    "}"
   ]
  },
  {
   "cell_type": "code",
   "execution_count": 16,
   "metadata": {},
   "outputs": [],
   "source": [
    "temp_df = fetch_api_v0(url=url, params=params)"
   ]
  },
  {
   "cell_type": "code",
   "execution_count": 17,
   "metadata": {
    "scrolled": true
   },
   "outputs": [],
   "source": [
    "import json\n",
    "\n",
    "data = json.loads(temp_df.to_json())"
   ]
  },
  {
   "cell_type": "code",
   "execution_count": 18,
   "metadata": {},
   "outputs": [],
   "source": [
    "hourly_data = pd.DataFrame(data[\"hourly\"])\n",
    "daily_data = pd.DataFrame(data[\"daily\"])\n",
    "\n",
    "# Convert time columns from UNIX to datetime\n",
    "for df in [hourly_data, daily_data]:\n",
    "    if \"time\" in df.columns:\n",
    "        df[\"time\"] = pd.to_datetime(df[\"time\"], unit=\"s\")"
   ]
  },
  {
   "cell_type": "code",
   "execution_count": 19,
   "metadata": {},
   "outputs": [
    {
     "name": "stdout",
     "output_type": "stream",
     "text": [
      "(3654, 27)\n",
      "(87696, 27)\n"
     ]
    }
   ],
   "source": [
    "print(daily_data.shape)\n",
    "print(hourly_data.shape)"
   ]
  },
  {
   "cell_type": "code",
   "execution_count": 20,
   "metadata": {},
   "outputs": [
    {
     "name": "stdout",
     "output_type": "stream",
     "text": [
      "<class 'pandas.core.frame.DataFrame'>\n",
      "RangeIndex: 3654 entries, 0 to 3653\n",
      "Data columns (total 27 columns):\n",
      " #   Column                       Non-Null Count  Dtype         \n",
      "---  ------                       --------------  -----         \n",
      " 0   time                         3654 non-null   datetime64[ns]\n",
      " 1   temperature_2m               0 non-null      object        \n",
      " 2   wind_speed_100m              0 non-null      object        \n",
      " 3   wind_direction_100m          0 non-null      object        \n",
      " 4   soil_moisture_0_to_7cm       0 non-null      object        \n",
      " 5   soil_moisture_7_to_28cm      0 non-null      object        \n",
      " 6   soil_temperature_0_to_7cm    0 non-null      object        \n",
      " 7   soil_temperature_7_to_28cm   0 non-null      object        \n",
      " 8   cloud_cover                  0 non-null      object        \n",
      " 9   cloud_cover_low              0 non-null      object        \n",
      " 10  cloud_cover_mid              0 non-null      object        \n",
      " 11  cloud_cover_high             0 non-null      object        \n",
      " 12  vapour_pressure_deficit      0 non-null      object        \n",
      " 13  rain                         0 non-null      object        \n",
      " 14  precipitation                0 non-null      object        \n",
      " 15  relative_humidity_2m         0 non-null      object        \n",
      " 16  surface_pressure             0 non-null      object        \n",
      " 17  direct_radiation_instant     0 non-null      object        \n",
      " 18  temperature_2m_mean          3654 non-null   float64       \n",
      " 19  temperature_2m_max           3654 non-null   float64       \n",
      " 20  temperature_2m_min           3654 non-null   float64       \n",
      " 21  sunshine_duration            3654 non-null   float64       \n",
      " 22  rain_sum                     3654 non-null   float64       \n",
      " 23  precipitation_sum            3654 non-null   float64       \n",
      " 24  precipitation_hours          3654 non-null   float64       \n",
      " 25  wind_speed_10m_max           3654 non-null   float64       \n",
      " 26  wind_direction_10m_dominant  3654 non-null   int64         \n",
      "dtypes: datetime64[ns](1), float64(8), int64(1), object(17)\n",
      "memory usage: 770.9+ KB\n",
      "None\n",
      "<class 'pandas.core.frame.DataFrame'>\n",
      "RangeIndex: 87696 entries, 0 to 87695\n",
      "Data columns (total 27 columns):\n",
      " #   Column                       Non-Null Count  Dtype         \n",
      "---  ------                       --------------  -----         \n",
      " 0   time                         87696 non-null  datetime64[ns]\n",
      " 1   temperature_2m               87696 non-null  float64       \n",
      " 2   wind_speed_100m              87696 non-null  float64       \n",
      " 3   wind_direction_100m          87696 non-null  int64         \n",
      " 4   soil_moisture_0_to_7cm       87696 non-null  float64       \n",
      " 5   soil_moisture_7_to_28cm      87696 non-null  float64       \n",
      " 6   soil_temperature_0_to_7cm    87696 non-null  float64       \n",
      " 7   soil_temperature_7_to_28cm   87696 non-null  float64       \n",
      " 8   cloud_cover                  87696 non-null  int64         \n",
      " 9   cloud_cover_low              87696 non-null  int64         \n",
      " 10  cloud_cover_mid              87696 non-null  int64         \n",
      " 11  cloud_cover_high             87696 non-null  int64         \n",
      " 12  vapour_pressure_deficit      87696 non-null  float64       \n",
      " 13  rain                         87696 non-null  float64       \n",
      " 14  precipitation                87696 non-null  float64       \n",
      " 15  relative_humidity_2m         87696 non-null  int64         \n",
      " 16  surface_pressure             87696 non-null  float64       \n",
      " 17  direct_radiation_instant     87696 non-null  float64       \n",
      " 18  temperature_2m_mean          0 non-null      object        \n",
      " 19  temperature_2m_max           0 non-null      object        \n",
      " 20  temperature_2m_min           0 non-null      object        \n",
      " 21  sunshine_duration            0 non-null      object        \n",
      " 22  rain_sum                     0 non-null      object        \n",
      " 23  precipitation_sum            0 non-null      object        \n",
      " 24  precipitation_hours          0 non-null      object        \n",
      " 25  wind_speed_10m_max           0 non-null      object        \n",
      " 26  wind_direction_10m_dominant  0 non-null      object        \n",
      "dtypes: datetime64[ns](1), float64(11), int64(6), object(9)\n",
      "memory usage: 18.1+ MB\n",
      "None\n"
     ]
    }
   ],
   "source": [
    "print(daily_data.info())\n",
    "print(hourly_data.info())"
   ]
  },
  {
   "cell_type": "code",
   "execution_count": 21,
   "metadata": {},
   "outputs": [
    {
     "data": {
      "text/plain": [
       "(3654, 10)"
      ]
     },
     "execution_count": 21,
     "metadata": {},
     "output_type": "execute_result"
    }
   ],
   "source": [
    "cols_to_drop = ['temperature_2m', 'wind_speed_100m', 'wind_direction_100m',\n",
    "       'soil_moisture_0_to_7cm', 'soil_moisture_7_to_28cm',\n",
    "       'soil_temperature_0_to_7cm', 'soil_temperature_7_to_28cm',\n",
    "       'cloud_cover', 'cloud_cover_low', 'cloud_cover_mid', 'cloud_cover_high',\n",
    "       'vapour_pressure_deficit', 'rain', 'precipitation',\n",
    "       'relative_humidity_2m', 'surface_pressure', 'direct_radiation_instant']\n",
    "\n",
    "daily_data.drop(columns=cols_to_drop, inplace=True)\n",
    "daily_data.shape"
   ]
  },
  {
   "cell_type": "code",
   "execution_count": 22,
   "metadata": {},
   "outputs": [
    {
     "data": {
      "text/plain": [
       "(87696, 18)"
      ]
     },
     "execution_count": 22,
     "metadata": {},
     "output_type": "execute_result"
    }
   ],
   "source": [
    "cols_to_drop = ['temperature_2m_mean', 'temperature_2m_max', 'temperature_2m_min',\n",
    "       'sunshine_duration', 'rain_sum', 'precipitation_sum',\n",
    "       'precipitation_hours', 'wind_speed_10m_max',\n",
    "       'wind_direction_10m_dominant']\n",
    "\n",
    "hourly_data.drop(columns=cols_to_drop, inplace=True)\n",
    "hourly_data.shape"
   ]
  },
  {
   "cell_type": "code",
   "execution_count": 23,
   "metadata": {},
   "outputs": [
    {
     "name": "stdout",
     "output_type": "stream",
     "text": [
      "C:\\Users\\lenovo\\Desktop\\Labs Sem 2\\Adv ML\\at2\\saurabh-at2-eda-model\\notebooks\\rain_or_not\n"
     ]
    }
   ],
   "source": [
    "import os\n",
    "print(os.getcwd())"
   ]
  },
  {
   "cell_type": "code",
   "execution_count": 24,
   "metadata": {},
   "outputs": [],
   "source": [
    "from pathlib import Path\n",
    "\n",
    "class AT:\n",
    "    def __init__(self, folder_path):\n",
    "        self.folder_path = Path(folder_path)\n",
    "        self.folder_path.mkdir(parents=True, exist_ok=True)  # <--- ensures folder exists\n",
    "\n",
    "at = AT(\"../data/raw/classification\")"
   ]
  },
  {
   "cell_type": "code",
   "execution_count": 25,
   "metadata": {},
   "outputs": [],
   "source": [
    "# to avoid API runtime error, we are storing the daily_df and hourly_df locally\n",
    "try:\n",
    "    daily_data.to_csv(at.folder_path / \"daily_df.csv\", index=False)\n",
    "    hourly_data.to_csv(at.folder_path / \"hourly_df.csv\", index=False)\n",
    "except Exception as e:\n",
    "    print(e)"
   ]
  },
  {
   "cell_type": "markdown",
   "metadata": {},
   "source": [
    "#### For the first model, I will be using daily_df"
   ]
  },
  {
   "cell_type": "code",
   "execution_count": 26,
   "metadata": {},
   "outputs": [],
   "source": [
    "df = pd.read_csv(\"../data/raw/classification/daily_df.csv\")"
   ]
  },
  {
   "cell_type": "code",
   "execution_count": 27,
   "metadata": {},
   "outputs": [
    {
     "data": {
      "text/html": [
       "<div>\n",
       "<style scoped>\n",
       "    .dataframe tbody tr th:only-of-type {\n",
       "        vertical-align: middle;\n",
       "    }\n",
       "\n",
       "    .dataframe tbody tr th {\n",
       "        vertical-align: top;\n",
       "    }\n",
       "\n",
       "    .dataframe thead th {\n",
       "        text-align: right;\n",
       "    }\n",
       "</style>\n",
       "<table border=\"1\" class=\"dataframe\">\n",
       "  <thead>\n",
       "    <tr style=\"text-align: right;\">\n",
       "      <th></th>\n",
       "      <th>time</th>\n",
       "      <th>temperature_2m_mean</th>\n",
       "      <th>temperature_2m_max</th>\n",
       "      <th>temperature_2m_min</th>\n",
       "      <th>sunshine_duration</th>\n",
       "      <th>rain_sum</th>\n",
       "      <th>precipitation_sum</th>\n",
       "      <th>precipitation_hours</th>\n",
       "      <th>wind_speed_10m_max</th>\n",
       "      <th>wind_direction_10m_dominant</th>\n",
       "    </tr>\n",
       "  </thead>\n",
       "  <tbody>\n",
       "    <tr>\n",
       "      <th>0</th>\n",
       "      <td>2015-09-14 14:00:00</td>\n",
       "      <td>19.4</td>\n",
       "      <td>26.3</td>\n",
       "      <td>14.1</td>\n",
       "      <td>39629.22</td>\n",
       "      <td>0.1</td>\n",
       "      <td>0.1</td>\n",
       "      <td>1.0</td>\n",
       "      <td>7.39</td>\n",
       "      <td>310</td>\n",
       "    </tr>\n",
       "    <tr>\n",
       "      <th>1</th>\n",
       "      <td>2015-09-15 14:00:00</td>\n",
       "      <td>15.3</td>\n",
       "      <td>18.8</td>\n",
       "      <td>11.6</td>\n",
       "      <td>39829.05</td>\n",
       "      <td>0.0</td>\n",
       "      <td>0.0</td>\n",
       "      <td>0.0</td>\n",
       "      <td>4.52</td>\n",
       "      <td>165</td>\n",
       "    </tr>\n",
       "    <tr>\n",
       "      <th>2</th>\n",
       "      <td>2015-09-16 14:00:00</td>\n",
       "      <td>14.4</td>\n",
       "      <td>16.8</td>\n",
       "      <td>11.8</td>\n",
       "      <td>36662.08</td>\n",
       "      <td>4.4</td>\n",
       "      <td>4.4</td>\n",
       "      <td>11.0</td>\n",
       "      <td>4.98</td>\n",
       "      <td>172</td>\n",
       "    </tr>\n",
       "    <tr>\n",
       "      <th>3</th>\n",
       "      <td>2015-09-17 14:00:00</td>\n",
       "      <td>14.9</td>\n",
       "      <td>17.1</td>\n",
       "      <td>13.5</td>\n",
       "      <td>39506.63</td>\n",
       "      <td>1.0</td>\n",
       "      <td>1.0</td>\n",
       "      <td>5.0</td>\n",
       "      <td>5.00</td>\n",
       "      <td>179</td>\n",
       "    </tr>\n",
       "    <tr>\n",
       "      <th>4</th>\n",
       "      <td>2015-09-18 14:00:00</td>\n",
       "      <td>15.2</td>\n",
       "      <td>17.0</td>\n",
       "      <td>13.5</td>\n",
       "      <td>37697.60</td>\n",
       "      <td>3.4</td>\n",
       "      <td>3.4</td>\n",
       "      <td>14.0</td>\n",
       "      <td>4.14</td>\n",
       "      <td>130</td>\n",
       "    </tr>\n",
       "  </tbody>\n",
       "</table>\n",
       "</div>"
      ],
      "text/plain": [
       "                  time  temperature_2m_mean  temperature_2m_max  \\\n",
       "0  2015-09-14 14:00:00                 19.4                26.3   \n",
       "1  2015-09-15 14:00:00                 15.3                18.8   \n",
       "2  2015-09-16 14:00:00                 14.4                16.8   \n",
       "3  2015-09-17 14:00:00                 14.9                17.1   \n",
       "4  2015-09-18 14:00:00                 15.2                17.0   \n",
       "\n",
       "   temperature_2m_min  sunshine_duration  rain_sum  precipitation_sum  \\\n",
       "0                14.1           39629.22       0.1                0.1   \n",
       "1                11.6           39829.05       0.0                0.0   \n",
       "2                11.8           36662.08       4.4                4.4   \n",
       "3                13.5           39506.63       1.0                1.0   \n",
       "4                13.5           37697.60       3.4                3.4   \n",
       "\n",
       "   precipitation_hours  wind_speed_10m_max  wind_direction_10m_dominant  \n",
       "0                  1.0                7.39                          310  \n",
       "1                  0.0                4.52                          165  \n",
       "2                 11.0                4.98                          172  \n",
       "3                  5.0                5.00                          179  \n",
       "4                 14.0                4.14                          130  "
      ]
     },
     "execution_count": 27,
     "metadata": {},
     "output_type": "execute_result"
    }
   ],
   "source": [
    "df.head()"
   ]
  },
  {
   "cell_type": "code",
   "execution_count": 28,
   "metadata": {},
   "outputs": [
    {
     "data": {
      "text/html": [
       "<div>\n",
       "<style scoped>\n",
       "    .dataframe tbody tr th:only-of-type {\n",
       "        vertical-align: middle;\n",
       "    }\n",
       "\n",
       "    .dataframe tbody tr th {\n",
       "        vertical-align: top;\n",
       "    }\n",
       "\n",
       "    .dataframe thead th {\n",
       "        text-align: right;\n",
       "    }\n",
       "</style>\n",
       "<table border=\"1\" class=\"dataframe\">\n",
       "  <thead>\n",
       "    <tr style=\"text-align: right;\">\n",
       "      <th></th>\n",
       "      <th>time</th>\n",
       "      <th>temperature_2m_mean</th>\n",
       "      <th>temperature_2m_max</th>\n",
       "      <th>temperature_2m_min</th>\n",
       "      <th>sunshine_duration</th>\n",
       "      <th>rain_sum</th>\n",
       "      <th>precipitation_sum</th>\n",
       "      <th>precipitation_hours</th>\n",
       "      <th>wind_speed_10m_max</th>\n",
       "      <th>wind_direction_10m_dominant</th>\n",
       "    </tr>\n",
       "  </thead>\n",
       "  <tbody>\n",
       "    <tr>\n",
       "      <th>3649</th>\n",
       "      <td>2025-09-10 14:00:00</td>\n",
       "      <td>12.2</td>\n",
       "      <td>15.7</td>\n",
       "      <td>8.6</td>\n",
       "      <td>15181.43</td>\n",
       "      <td>35.3</td>\n",
       "      <td>35.3</td>\n",
       "      <td>14.0</td>\n",
       "      <td>9.31</td>\n",
       "      <td>227</td>\n",
       "    </tr>\n",
       "    <tr>\n",
       "      <th>3650</th>\n",
       "      <td>2025-09-11 14:00:00</td>\n",
       "      <td>13.3</td>\n",
       "      <td>18.8</td>\n",
       "      <td>9.3</td>\n",
       "      <td>39095.85</td>\n",
       "      <td>0.0</td>\n",
       "      <td>0.0</td>\n",
       "      <td>0.0</td>\n",
       "      <td>3.28</td>\n",
       "      <td>274</td>\n",
       "    </tr>\n",
       "    <tr>\n",
       "      <th>3651</th>\n",
       "      <td>2025-09-12 14:00:00</td>\n",
       "      <td>13.8</td>\n",
       "      <td>18.9</td>\n",
       "      <td>8.9</td>\n",
       "      <td>39097.41</td>\n",
       "      <td>0.0</td>\n",
       "      <td>0.0</td>\n",
       "      <td>0.0</td>\n",
       "      <td>3.69</td>\n",
       "      <td>0</td>\n",
       "    </tr>\n",
       "    <tr>\n",
       "      <th>3652</th>\n",
       "      <td>2025-09-13 14:00:00</td>\n",
       "      <td>14.9</td>\n",
       "      <td>21.1</td>\n",
       "      <td>9.3</td>\n",
       "      <td>39289.95</td>\n",
       "      <td>0.0</td>\n",
       "      <td>0.0</td>\n",
       "      <td>0.0</td>\n",
       "      <td>4.30</td>\n",
       "      <td>341</td>\n",
       "    </tr>\n",
       "    <tr>\n",
       "      <th>3653</th>\n",
       "      <td>2025-09-14 14:00:00</td>\n",
       "      <td>17.3</td>\n",
       "      <td>24.5</td>\n",
       "      <td>9.5</td>\n",
       "      <td>39585.54</td>\n",
       "      <td>0.0</td>\n",
       "      <td>0.0</td>\n",
       "      <td>0.0</td>\n",
       "      <td>4.08</td>\n",
       "      <td>327</td>\n",
       "    </tr>\n",
       "  </tbody>\n",
       "</table>\n",
       "</div>"
      ],
      "text/plain": [
       "                     time  temperature_2m_mean  temperature_2m_max  \\\n",
       "3649  2025-09-10 14:00:00                 12.2                15.7   \n",
       "3650  2025-09-11 14:00:00                 13.3                18.8   \n",
       "3651  2025-09-12 14:00:00                 13.8                18.9   \n",
       "3652  2025-09-13 14:00:00                 14.9                21.1   \n",
       "3653  2025-09-14 14:00:00                 17.3                24.5   \n",
       "\n",
       "      temperature_2m_min  sunshine_duration  rain_sum  precipitation_sum  \\\n",
       "3649                 8.6           15181.43      35.3               35.3   \n",
       "3650                 9.3           39095.85       0.0                0.0   \n",
       "3651                 8.9           39097.41       0.0                0.0   \n",
       "3652                 9.3           39289.95       0.0                0.0   \n",
       "3653                 9.5           39585.54       0.0                0.0   \n",
       "\n",
       "      precipitation_hours  wind_speed_10m_max  wind_direction_10m_dominant  \n",
       "3649                 14.0                9.31                          227  \n",
       "3650                  0.0                3.28                          274  \n",
       "3651                  0.0                3.69                            0  \n",
       "3652                  0.0                4.30                          341  \n",
       "3653                  0.0                4.08                          327  "
      ]
     },
     "execution_count": 28,
     "metadata": {},
     "output_type": "execute_result"
    }
   ],
   "source": [
    "df.tail()"
   ]
  },
  {
   "cell_type": "code",
   "execution_count": 29,
   "metadata": {},
   "outputs": [],
   "source": [
    "# Ensure 'time' column is datetime\n",
    "df['time'] = pd.to_datetime(df['time'])\n",
    "\n",
    "# Keep only rows where date is before 2025-01-01\n",
    "daily_df = df[df['time'] < '2025-01-01']"
   ]
  },
  {
   "cell_type": "code",
   "execution_count": 30,
   "metadata": {},
   "outputs": [],
   "source": [
    "test_2025 = df[df['time'] > '2025-01-01'] # to be used later for the final predictions"
   ]
  },
  {
   "cell_type": "code",
   "execution_count": 31,
   "metadata": {},
   "outputs": [
    {
     "name": "stdout",
     "output_type": "stream",
     "text": [
      "<class 'pandas.core.frame.DataFrame'>\n",
      "Index: 3397 entries, 0 to 3396\n",
      "Data columns (total 10 columns):\n",
      " #   Column                       Non-Null Count  Dtype         \n",
      "---  ------                       --------------  -----         \n",
      " 0   time                         3397 non-null   datetime64[ns]\n",
      " 1   temperature_2m_mean          3397 non-null   float64       \n",
      " 2   temperature_2m_max           3397 non-null   float64       \n",
      " 3   temperature_2m_min           3397 non-null   float64       \n",
      " 4   sunshine_duration            3397 non-null   float64       \n",
      " 5   rain_sum                     3397 non-null   float64       \n",
      " 6   precipitation_sum            3397 non-null   float64       \n",
      " 7   precipitation_hours          3397 non-null   float64       \n",
      " 8   wind_speed_10m_max           3397 non-null   float64       \n",
      " 9   wind_direction_10m_dominant  3397 non-null   int64         \n",
      "dtypes: datetime64[ns](1), float64(8), int64(1)\n",
      "memory usage: 291.9 KB\n"
     ]
    }
   ],
   "source": [
    "daily_df.info()"
   ]
  },
  {
   "cell_type": "code",
   "execution_count": 32,
   "metadata": {
    "id": "4Z0I4L_cVITG"
   },
   "outputs": [
    {
     "data": {
      "text/html": [
       "<div>\n",
       "<style scoped>\n",
       "    .dataframe tbody tr th:only-of-type {\n",
       "        vertical-align: middle;\n",
       "    }\n",
       "\n",
       "    .dataframe tbody tr th {\n",
       "        vertical-align: top;\n",
       "    }\n",
       "\n",
       "    .dataframe thead th {\n",
       "        text-align: right;\n",
       "    }\n",
       "</style>\n",
       "<table border=\"1\" class=\"dataframe\">\n",
       "  <thead>\n",
       "    <tr style=\"text-align: right;\">\n",
       "      <th></th>\n",
       "      <th>time</th>\n",
       "      <th>temperature_2m_mean</th>\n",
       "      <th>temperature_2m_max</th>\n",
       "      <th>temperature_2m_min</th>\n",
       "      <th>sunshine_duration</th>\n",
       "      <th>rain_sum</th>\n",
       "      <th>precipitation_sum</th>\n",
       "      <th>precipitation_hours</th>\n",
       "      <th>wind_speed_10m_max</th>\n",
       "      <th>wind_direction_10m_dominant</th>\n",
       "    </tr>\n",
       "  </thead>\n",
       "  <tbody>\n",
       "    <tr>\n",
       "      <th>count</th>\n",
       "      <td>3397</td>\n",
       "      <td>3397.000000</td>\n",
       "      <td>3397.000000</td>\n",
       "      <td>3397.000000</td>\n",
       "      <td>3397.000000</td>\n",
       "      <td>3397.000000</td>\n",
       "      <td>3397.000000</td>\n",
       "      <td>3397.000000</td>\n",
       "      <td>3397.000000</td>\n",
       "      <td>3397.000000</td>\n",
       "    </tr>\n",
       "    <tr>\n",
       "      <th>mean</th>\n",
       "      <td>2020-05-08 14:00:00</td>\n",
       "      <td>17.511981</td>\n",
       "      <td>21.887047</td>\n",
       "      <td>13.547248</td>\n",
       "      <td>34101.761460</td>\n",
       "      <td>2.683132</td>\n",
       "      <td>2.683132</td>\n",
       "      <td>4.365322</td>\n",
       "      <td>5.761001</td>\n",
       "      <td>179.523403</td>\n",
       "    </tr>\n",
       "    <tr>\n",
       "      <th>min</th>\n",
       "      <td>2015-09-14 14:00:00</td>\n",
       "      <td>7.400000</td>\n",
       "      <td>9.800000</td>\n",
       "      <td>0.900000</td>\n",
       "      <td>0.000000</td>\n",
       "      <td>0.000000</td>\n",
       "      <td>0.000000</td>\n",
       "      <td>0.000000</td>\n",
       "      <td>1.600000</td>\n",
       "      <td>0.000000</td>\n",
       "    </tr>\n",
       "    <tr>\n",
       "      <th>25%</th>\n",
       "      <td>2018-01-10 14:00:00</td>\n",
       "      <td>13.800000</td>\n",
       "      <td>18.300000</td>\n",
       "      <td>9.700000</td>\n",
       "      <td>31319.010000</td>\n",
       "      <td>0.000000</td>\n",
       "      <td>0.000000</td>\n",
       "      <td>0.000000</td>\n",
       "      <td>4.400000</td>\n",
       "      <td>76.000000</td>\n",
       "    </tr>\n",
       "    <tr>\n",
       "      <th>50%</th>\n",
       "      <td>2020-05-08 14:00:00</td>\n",
       "      <td>17.700000</td>\n",
       "      <td>21.600000</td>\n",
       "      <td>13.600000</td>\n",
       "      <td>35840.960000</td>\n",
       "      <td>0.200000</td>\n",
       "      <td>0.200000</td>\n",
       "      <td>1.000000</td>\n",
       "      <td>5.550000</td>\n",
       "      <td>182.000000</td>\n",
       "    </tr>\n",
       "    <tr>\n",
       "      <th>75%</th>\n",
       "      <td>2022-09-04 14:00:00</td>\n",
       "      <td>20.900000</td>\n",
       "      <td>24.800000</td>\n",
       "      <td>17.600000</td>\n",
       "      <td>41932.380000</td>\n",
       "      <td>2.000000</td>\n",
       "      <td>2.000000</td>\n",
       "      <td>7.000000</td>\n",
       "      <td>6.910000</td>\n",
       "      <td>274.000000</td>\n",
       "    </tr>\n",
       "    <tr>\n",
       "      <th>max</th>\n",
       "      <td>2024-12-31 14:00:00</td>\n",
       "      <td>30.500000</td>\n",
       "      <td>41.800000</td>\n",
       "      <td>26.900000</td>\n",
       "      <td>48622.780000</td>\n",
       "      <td>138.400000</td>\n",
       "      <td>138.400000</td>\n",
       "      <td>24.000000</td>\n",
       "      <td>13.550000</td>\n",
       "      <td>360.000000</td>\n",
       "    </tr>\n",
       "    <tr>\n",
       "      <th>std</th>\n",
       "      <td>NaN</td>\n",
       "      <td>4.340243</td>\n",
       "      <td>4.663401</td>\n",
       "      <td>4.670281</td>\n",
       "      <td>11197.309952</td>\n",
       "      <td>7.221191</td>\n",
       "      <td>7.221191</td>\n",
       "      <td>6.078589</td>\n",
       "      <td>1.820563</td>\n",
       "      <td>105.127837</td>\n",
       "    </tr>\n",
       "  </tbody>\n",
       "</table>\n",
       "</div>"
      ],
      "text/plain": [
       "                      time  temperature_2m_mean  temperature_2m_max  \\\n",
       "count                 3397          3397.000000         3397.000000   \n",
       "mean   2020-05-08 14:00:00            17.511981           21.887047   \n",
       "min    2015-09-14 14:00:00             7.400000            9.800000   \n",
       "25%    2018-01-10 14:00:00            13.800000           18.300000   \n",
       "50%    2020-05-08 14:00:00            17.700000           21.600000   \n",
       "75%    2022-09-04 14:00:00            20.900000           24.800000   \n",
       "max    2024-12-31 14:00:00            30.500000           41.800000   \n",
       "std                    NaN             4.340243            4.663401   \n",
       "\n",
       "       temperature_2m_min  sunshine_duration     rain_sum  precipitation_sum  \\\n",
       "count         3397.000000        3397.000000  3397.000000        3397.000000   \n",
       "mean            13.547248       34101.761460     2.683132           2.683132   \n",
       "min              0.900000           0.000000     0.000000           0.000000   \n",
       "25%              9.700000       31319.010000     0.000000           0.000000   \n",
       "50%             13.600000       35840.960000     0.200000           0.200000   \n",
       "75%             17.600000       41932.380000     2.000000           2.000000   \n",
       "max             26.900000       48622.780000   138.400000         138.400000   \n",
       "std              4.670281       11197.309952     7.221191           7.221191   \n",
       "\n",
       "       precipitation_hours  wind_speed_10m_max  wind_direction_10m_dominant  \n",
       "count          3397.000000         3397.000000                  3397.000000  \n",
       "mean              4.365322            5.761001                   179.523403  \n",
       "min               0.000000            1.600000                     0.000000  \n",
       "25%               0.000000            4.400000                    76.000000  \n",
       "50%               1.000000            5.550000                   182.000000  \n",
       "75%               7.000000            6.910000                   274.000000  \n",
       "max              24.000000           13.550000                   360.000000  \n",
       "std               6.078589            1.820563                   105.127837  "
      ]
     },
     "execution_count": 32,
     "metadata": {},
     "output_type": "execute_result"
    }
   ],
   "source": [
    "daily_df.describe()"
   ]
  },
  {
   "cell_type": "markdown",
   "metadata": {
    "id": "tpG_mos_EXrY"
   },
   "source": [
    "### C.2 Define Target variable"
   ]
  },
  {
   "cell_type": "code",
   "execution_count": 33,
   "metadata": {},
   "outputs": [],
   "source": [
    "daily_df['rain_or_not_7d'] = (daily_df['rain_sum'].shift(-7) > 1).astype(int)"
   ]
  },
  {
   "cell_type": "code",
   "execution_count": 34,
   "metadata": {},
   "outputs": [
    {
     "data": {
      "text/plain": [
       "(3397, 11)"
      ]
     },
     "execution_count": 34,
     "metadata": {},
     "output_type": "execute_result"
    }
   ],
   "source": [
    "daily_df.shape"
   ]
  },
  {
   "cell_type": "code",
   "execution_count": 35,
   "metadata": {},
   "outputs": [
    {
     "data": {
      "text/html": [
       "<div>\n",
       "<style scoped>\n",
       "    .dataframe tbody tr th:only-of-type {\n",
       "        vertical-align: middle;\n",
       "    }\n",
       "\n",
       "    .dataframe tbody tr th {\n",
       "        vertical-align: top;\n",
       "    }\n",
       "\n",
       "    .dataframe thead th {\n",
       "        text-align: right;\n",
       "    }\n",
       "</style>\n",
       "<table border=\"1\" class=\"dataframe\">\n",
       "  <thead>\n",
       "    <tr style=\"text-align: right;\">\n",
       "      <th></th>\n",
       "      <th>time</th>\n",
       "      <th>temperature_2m_mean</th>\n",
       "      <th>temperature_2m_max</th>\n",
       "      <th>temperature_2m_min</th>\n",
       "      <th>sunshine_duration</th>\n",
       "      <th>rain_sum</th>\n",
       "      <th>precipitation_sum</th>\n",
       "      <th>precipitation_hours</th>\n",
       "      <th>wind_speed_10m_max</th>\n",
       "      <th>wind_direction_10m_dominant</th>\n",
       "      <th>rain_or_not_7d</th>\n",
       "    </tr>\n",
       "  </thead>\n",
       "  <tbody>\n",
       "    <tr>\n",
       "      <th>3392</th>\n",
       "      <td>2024-12-27 14:00:00</td>\n",
       "      <td>21.4</td>\n",
       "      <td>24.0</td>\n",
       "      <td>18.6</td>\n",
       "      <td>48554.49</td>\n",
       "      <td>0.9</td>\n",
       "      <td>0.9</td>\n",
       "      <td>8.0</td>\n",
       "      <td>5.60</td>\n",
       "      <td>109</td>\n",
       "      <td>0</td>\n",
       "    </tr>\n",
       "    <tr>\n",
       "      <th>3393</th>\n",
       "      <td>2024-12-28 14:00:00</td>\n",
       "      <td>22.2</td>\n",
       "      <td>27.9</td>\n",
       "      <td>16.9</td>\n",
       "      <td>48533.38</td>\n",
       "      <td>0.0</td>\n",
       "      <td>0.0</td>\n",
       "      <td>0.0</td>\n",
       "      <td>4.92</td>\n",
       "      <td>137</td>\n",
       "      <td>0</td>\n",
       "    </tr>\n",
       "    <tr>\n",
       "      <th>3394</th>\n",
       "      <td>2024-12-29 14:00:00</td>\n",
       "      <td>22.5</td>\n",
       "      <td>25.6</td>\n",
       "      <td>19.7</td>\n",
       "      <td>48509.53</td>\n",
       "      <td>0.3</td>\n",
       "      <td>0.3</td>\n",
       "      <td>2.0</td>\n",
       "      <td>5.07</td>\n",
       "      <td>85</td>\n",
       "      <td>0</td>\n",
       "    </tr>\n",
       "    <tr>\n",
       "      <th>3395</th>\n",
       "      <td>2024-12-30 14:00:00</td>\n",
       "      <td>23.0</td>\n",
       "      <td>26.5</td>\n",
       "      <td>18.7</td>\n",
       "      <td>42930.70</td>\n",
       "      <td>0.0</td>\n",
       "      <td>0.0</td>\n",
       "      <td>0.0</td>\n",
       "      <td>4.15</td>\n",
       "      <td>66</td>\n",
       "      <td>0</td>\n",
       "    </tr>\n",
       "    <tr>\n",
       "      <th>3396</th>\n",
       "      <td>2024-12-31 14:00:00</td>\n",
       "      <td>24.3</td>\n",
       "      <td>28.6</td>\n",
       "      <td>19.6</td>\n",
       "      <td>48453.72</td>\n",
       "      <td>0.0</td>\n",
       "      <td>0.0</td>\n",
       "      <td>0.0</td>\n",
       "      <td>6.05</td>\n",
       "      <td>47</td>\n",
       "      <td>0</td>\n",
       "    </tr>\n",
       "  </tbody>\n",
       "</table>\n",
       "</div>"
      ],
      "text/plain": [
       "                    time  temperature_2m_mean  temperature_2m_max  \\\n",
       "3392 2024-12-27 14:00:00                 21.4                24.0   \n",
       "3393 2024-12-28 14:00:00                 22.2                27.9   \n",
       "3394 2024-12-29 14:00:00                 22.5                25.6   \n",
       "3395 2024-12-30 14:00:00                 23.0                26.5   \n",
       "3396 2024-12-31 14:00:00                 24.3                28.6   \n",
       "\n",
       "      temperature_2m_min  sunshine_duration  rain_sum  precipitation_sum  \\\n",
       "3392                18.6           48554.49       0.9                0.9   \n",
       "3393                16.9           48533.38       0.0                0.0   \n",
       "3394                19.7           48509.53       0.3                0.3   \n",
       "3395                18.7           42930.70       0.0                0.0   \n",
       "3396                19.6           48453.72       0.0                0.0   \n",
       "\n",
       "      precipitation_hours  wind_speed_10m_max  wind_direction_10m_dominant  \\\n",
       "3392                  8.0                5.60                          109   \n",
       "3393                  0.0                4.92                          137   \n",
       "3394                  2.0                5.07                           85   \n",
       "3395                  0.0                4.15                           66   \n",
       "3396                  0.0                6.05                           47   \n",
       "\n",
       "      rain_or_not_7d  \n",
       "3392               0  \n",
       "3393               0  \n",
       "3394               0  \n",
       "3395               0  \n",
       "3396               0  "
      ]
     },
     "execution_count": 35,
     "metadata": {},
     "output_type": "execute_result"
    }
   ],
   "source": [
    "daily_df.tail()"
   ]
  },
  {
   "cell_type": "code",
   "execution_count": 36,
   "metadata": {},
   "outputs": [
    {
     "data": {
      "text/plain": [
       "(3390, 11)"
      ]
     },
     "execution_count": 36,
     "metadata": {},
     "output_type": "execute_result"
    }
   ],
   "source": [
    "# Drop the last 7 rows\n",
    "daily_df = daily_df.iloc[:-7]\n",
    "daily_df.shape"
   ]
  },
  {
   "cell_type": "code",
   "execution_count": 37,
   "metadata": {
    "id": "RiqBkEQ-EjIZ"
   },
   "outputs": [],
   "source": [
    "# <Student to fill this section>\n",
    "target_definition_explanations = \"\"\"\n",
    "Target contains binary response, whether it will rain on (t+7)th day or not. Considering only those values as rain where there's more than 1mm of rain_sum. Last 7 records are deleted because they don't have any information of (t+7)th day\n",
    "\"\"\""
   ]
  },
  {
   "cell_type": "code",
   "execution_count": 38,
   "metadata": {
    "id": "qdeiAKiIElvG"
   },
   "outputs": [
    {
     "data": {
      "text/html": [
       "<p style=\"color:grey\">target_definition_explanations</p><h3 font-size: 3em>\n",
       "Target contains binary response, whether it will rain on (t+7)th day or not. Considering only those values as rain where there's more than 1mm of rain_sum. Last 7 records are deleted because they don't have any information of (t+7)th day\n",
       "</h3>"
      ],
      "text/plain": [
       "<IPython.core.display.HTML object>"
      ]
     },
     "metadata": {},
     "output_type": "display_data"
    }
   ],
   "source": [
    "# Do not modify this code\n",
    "print_tile(size=\"h3\", key='target_definition_explanations', value=target_definition_explanations)"
   ]
  },
  {
   "cell_type": "markdown",
   "metadata": {
    "id": "dmSKLrSBFAN5",
    "jp-MarkdownHeadingCollapsed": true
   },
   "source": [
    "### C.3 Explore Target variable"
   ]
  },
  {
   "cell_type": "code",
   "execution_count": 39,
   "metadata": {
    "id": "DBocSNWvVFCU"
   },
   "outputs": [
    {
     "name": "stdout",
     "output_type": "stream",
     "text": [
      "rain_or_not_7d\n",
      "0    2283\n",
      "1    1107\n",
      "Name: count, dtype: int64\n"
     ]
    },
    {
     "data": {
      "image/png": "[encoded data removed]",
      "text/plain": [
       "<Figure size 640x480 with 1 Axes>"
      ]
     },
     "metadata": {},
     "output_type": "display_data"
    }
   ],
   "source": [
    "print(daily_df['rain_or_not_7d'].value_counts())\n",
    "\n",
    "sns.countplot(x='rain_or_not_7d', data=daily_df)\n",
    "plt.title(\"Distribution of target variable (rain next 7 days)\")\n",
    "plt.show()"
   ]
  },
  {
   "cell_type": "code",
   "execution_count": 40,
   "metadata": {
    "id": "5I9ccv-UEr5o"
   },
   "outputs": [],
   "source": [
    "# <Student to fill this section>\n",
    "target_distribution_explanations = \"\"\"\n",
    "Distribution does not look highly imbalanced, no null values\n",
    "\"\"\""
   ]
  },
  {
   "cell_type": "code",
   "execution_count": 41,
   "metadata": {
    "id": "i45S7xA9EtEV"
   },
   "outputs": [
    {
     "data": {
      "text/html": [
       "<p style=\"color:grey\">target_distribution_explanations</p><h3 font-size: 3em>\n",
       "Distribution does not look highly imbalanced, no null values\n",
       "</h3>"
      ],
      "text/plain": [
       "<IPython.core.display.HTML object>"
      ]
     },
     "metadata": {},
     "output_type": "display_data"
    }
   ],
   "source": [
    "# Do not modify this code\n",
    "print_tile(size=\"h3\", key='target_distribution_explanations', value=target_distribution_explanations)"
   ]
  },
  {
   "cell_type": "markdown",
   "metadata": {
    "id": "37ubEa7SFWXo"
   },
   "source": [
    "### C.4 Explore Feature of Interest `temperature_2m_mean`, `temperature_2m_max`, `temperature_2m_min`"
   ]
  },
  {
   "cell_type": "code",
   "execution_count": 42,
   "metadata": {},
   "outputs": [],
   "source": [
    "def plot_feature_vs_target(df, feature_col, target_col='rain_or_not_7d'):\n",
    "    plt.figure(figsize=(6,3))\n",
    "    sns.boxplot(x=target_col, y=feature_col, data=df)\n",
    "    plt.title(f\"{feature_col} vs {target_col}\")\n",
    "    plt.xlabel(target_col)\n",
    "    plt.ylabel(feature_col)\n",
    "    plt.grid()\n",
    "    plt.show()"
   ]
  },
  {
   "cell_type": "code",
   "execution_count": 43,
   "metadata": {
    "id": "wV9Ldx0gFWks"
   },
   "outputs": [],
   "source": [
    "temp = daily_df[['temperature_2m_min','temperature_2m_mean','temperature_2m_max']]"
   ]
  },
  {
   "cell_type": "code",
   "execution_count": 44,
   "metadata": {
    "id": "JJxanj3EVERJ"
   },
   "outputs": [
    {
     "data": {
      "image/png": "[encoded data removed]",
      "text/plain": [
       "<Figure size 600x300 with 1 Axes>"
      ]
     },
     "metadata": {},
     "output_type": "display_data"
    },
    {
     "data": {
      "image/png": "[encoded data removed]",
      "text/plain": [
       "<Figure size 600x300 with 1 Axes>"
      ]
     },
     "metadata": {},
     "output_type": "display_data"
    },
    {
     "data": {
      "image/png": "[encoded data removed]",
      "text/plain": [
       "<Figure size 600x300 with 1 Axes>"
      ]
     },
     "metadata": {},
     "output_type": "display_data"
    }
   ],
   "source": [
    "for col in temp.columns:\n",
    "    plt.figure(figsize=(6,3))\n",
    "    sns.boxplot(x=temp[col])\n",
    "    plt.title(f\"Distribution of {col}\")\n",
    "    plt.xlabel(\"\")\n",
    "    plt.grid()\n",
    "    plt.show()"
   ]
  },
  {
   "cell_type": "code",
   "execution_count": 45,
   "metadata": {},
   "outputs": [
    {
     "data": {
      "image/png": "[encoded data removed]",
      "text/plain": [
       "<Figure size 600x300 with 1 Axes>"
      ]
     },
     "metadata": {},
     "output_type": "display_data"
    },
    {
     "data": {
      "image/png": "[encoded data removed]",
      "text/plain": [
       "<Figure size 600x300 with 1 Axes>"
      ]
     },
     "metadata": {},
     "output_type": "display_data"
    },
    {
     "data": {
      "image/png": "[encoded data removed]",
      "text/plain": [
       "<Figure size 600x300 with 1 Axes>"
      ]
     },
     "metadata": {},
     "output_type": "display_data"
    }
   ],
   "source": [
    "for col in temp.columns:\n",
    "    plt.figure(figsize=(6,3))\n",
    "    sns.histplot(temp[col],kde=True)\n",
    "    plt.title(f\"Distribution of {col}\")\n",
    "    plt.xlabel(\"\")\n",
    "    plt.grid()\n",
    "    plt.show()"
   ]
  },
  {
   "cell_type": "code",
   "execution_count": 46,
   "metadata": {},
   "outputs": [],
   "source": [
    "temp['target'] = daily_df['rain_or_not_7d']"
   ]
  },
  {
   "cell_type": "code",
   "execution_count": 47,
   "metadata": {},
   "outputs": [
    {
     "data": {
      "image/png": "[encoded data removed]",
      "text/plain": [
       "<Figure size 600x300 with 1 Axes>"
      ]
     },
     "metadata": {},
     "output_type": "display_data"
    },
    {
     "data": {
      "image/png": "[encoded data removed]",
      "text/plain": [
       "<Figure size 600x300 with 1 Axes>"
      ]
     },
     "metadata": {},
     "output_type": "display_data"
    },
    {
     "data": {
      "image/png": "[encoded data removed]",
      "text/plain": [
       "<Figure size 600x300 with 1 Axes>"
      ]
     },
     "metadata": {},
     "output_type": "display_data"
    }
   ],
   "source": [
    "for col in temp.columns[0:-1]:\n",
    "    plot_feature_vs_target(temp,col,'target')"
   ]
  },
  {
   "cell_type": "code",
   "execution_count": 48,
   "metadata": {
    "id": "y4YLcn_eEyAe"
   },
   "outputs": [],
   "source": [
    "# <Student to fill this section>\n",
    "feature_1_insights = \"\"\"\n",
    "Outliers found in temperature_2m_max. There seems to be a relation of temperature with rainfall, higher temperature recorded when it rained, this could be because of higher amount of absorption and then precipitation.\n",
    "\"\"\""
   ]
  },
  {
   "cell_type": "code",
   "execution_count": 49,
   "metadata": {
    "id": "2r1knRxDEyC0"
   },
   "outputs": [
    {
     "data": {
      "text/html": [
       "<p style=\"color:grey\">feature_1_insights</p><h3 font-size: 3em>\n",
       "Outliers found in temperature_2m_max. There seems to be a relation of temperature with rainfall, higher temperature recorded when it rained, this could be because of higher amount of absorption and then precipitation.\n",
       "</h3>"
      ],
      "text/plain": [
       "<IPython.core.display.HTML object>"
      ]
     },
     "metadata": {},
     "output_type": "display_data"
    }
   ],
   "source": [
    "# Do not modify this code\n",
    "print_tile(size=\"h3\", key='feature_1_insights', value=feature_1_insights)"
   ]
  },
  {
   "cell_type": "markdown",
   "metadata": {
    "id": "WOqd56IjE0LB"
   },
   "source": [
    "### C.5 Explore Feature of Interest `sunshine_duration`"
   ]
  },
  {
   "cell_type": "code",
   "execution_count": 50,
   "metadata": {
    "id": "akQFJsI3E2eM"
   },
   "outputs": [
    {
     "data": {
      "image/png": "[encoded data removed]",
      "text/plain": [
       "<Figure size 600x300 with 1 Axes>"
      ]
     },
     "metadata": {},
     "output_type": "display_data"
    }
   ],
   "source": [
    "plt.figure(figsize=(6,3))\n",
    "sns.boxplot(x=daily_df['sunshine_duration'])\n",
    "plt.title(f\"Distribution of sunshine_duration\")\n",
    "plt.xlabel(\"Number of seconds of sunshine in a day\")\n",
    "plt.grid()\n",
    "plt.show()"
   ]
  },
  {
   "cell_type": "code",
   "execution_count": 51,
   "metadata": {},
   "outputs": [
    {
     "data": {
      "image/png": "[encoded data removed]",
      "text/plain": [
       "<Figure size 600x300 with 1 Axes>"
      ]
     },
     "metadata": {},
     "output_type": "display_data"
    }
   ],
   "source": [
    "plt.figure(figsize=(6,3))\n",
    "sns.histplot(daily_df['sunshine_duration'],kde=True)\n",
    "plt.title(f\"Distribution of sunshine_duration\")\n",
    "plt.xlabel(\"Number of seconds of sunshine in a day\")\n",
    "plt.grid()\n",
    "plt.show()"
   ]
  },
  {
   "cell_type": "code",
   "execution_count": 52,
   "metadata": {},
   "outputs": [
    {
     "data": {
      "image/png": "[encoded data removed]",
      "text/plain": [
       "<Figure size 600x300 with 1 Axes>"
      ]
     },
     "metadata": {},
     "output_type": "display_data"
    }
   ],
   "source": [
    "plot_feature_vs_target(daily_df,'sunshine_duration')"
   ]
  },
  {
   "cell_type": "code",
   "execution_count": 53,
   "metadata": {
    "id": "u-CfAsO1E2hB"
   },
   "outputs": [],
   "source": [
    "# <Student to fill this section>\n",
    "feature_2_insights = \"\"\"\n",
    "Distribution highly left skewed. Outliers exist. Both the records look similar if it rained or not on t+7th day\n",
    "\"\"\""
   ]
  },
  {
   "cell_type": "code",
   "execution_count": 54,
   "metadata": {
    "id": "bB87lgCAE2jf"
   },
   "outputs": [
    {
     "data": {
      "text/html": [
       "<p style=\"color:grey\">feature_2_insights</p><h3 font-size: 3em>\n",
       "Distribution highly left skewed. Outliers exist. Both the records look similar if it rained or not on t+7th day\n",
       "</h3>"
      ],
      "text/plain": [
       "<IPython.core.display.HTML object>"
      ]
     },
     "metadata": {},
     "output_type": "display_data"
    }
   ],
   "source": [
    "# Do not modify this code\n",
    "print_tile(size=\"h3\", key='feature_2_insights', value=feature_2_insights)"
   ]
  },
  {
   "cell_type": "markdown",
   "metadata": {
    "id": "-8J_tiLgE26i"
   },
   "source": [
    "### C.6 Explore Feature of Interest  `wind_speed_10m_max`, `wind_direction_10m_dominant`\n"
   ]
  },
  {
   "cell_type": "code",
   "execution_count": 55,
   "metadata": {
    "id": "qeyyEgIrE6GB"
   },
   "outputs": [],
   "source": [
    "temp = daily_df[['wind_speed_10m_max','wind_direction_10m_dominant']]"
   ]
  },
  {
   "cell_type": "code",
   "execution_count": 56,
   "metadata": {
    "id": "ie8xl4AfVPU7"
   },
   "outputs": [
    {
     "data": {
      "image/png": "[encoded data removed]",
      "text/plain": [
       "<Figure size 600x300 with 1 Axes>"
      ]
     },
     "metadata": {},
     "output_type": "display_data"
    },
    {
     "data": {
      "image/png": "[encoded data removed]",
      "text/plain": [
       "<Figure size 600x300 with 1 Axes>"
      ]
     },
     "metadata": {},
     "output_type": "display_data"
    }
   ],
   "source": [
    "for col in temp.columns:\n",
    "    plt.figure(figsize=(6,3))\n",
    "    sns.boxplot(x=temp[col])\n",
    "    plt.title(f\"Distribution of {col}\")\n",
    "    plt.xlabel(\"\")\n",
    "    plt.grid()\n",
    "    plt.show()"
   ]
  },
  {
   "cell_type": "code",
   "execution_count": 57,
   "metadata": {},
   "outputs": [
    {
     "data": {
      "image/png": "[encoded data removed]",
      "text/plain": [
       "<Figure size 600x300 with 1 Axes>"
      ]
     },
     "metadata": {},
     "output_type": "display_data"
    },
    {
     "data": {
      "image/png": "[encoded data removed]",
      "text/plain": [
       "<Figure size 600x300 with 1 Axes>"
      ]
     },
     "metadata": {},
     "output_type": "display_data"
    }
   ],
   "source": [
    "for col in temp.columns:\n",
    "    plt.figure(figsize=(6,3))\n",
    "    sns.histplot(temp[col],kde=True)\n",
    "    plt.title(f\"Distribution of {col}\")\n",
    "    plt.xlabel(\"\")\n",
    "    plt.grid()\n",
    "    plt.show()"
   ]
  },
  {
   "cell_type": "code",
   "execution_count": 58,
   "metadata": {},
   "outputs": [],
   "source": [
    "temp['target'] = daily_df['rain_or_not_7d']"
   ]
  },
  {
   "cell_type": "code",
   "execution_count": 59,
   "metadata": {},
   "outputs": [
    {
     "data": {
      "image/png": "[encoded data removed]",
      "text/plain": [
       "<Figure size 600x300 with 1 Axes>"
      ]
     },
     "metadata": {},
     "output_type": "display_data"
    },
    {
     "data": {
      "image/png": "[encoded data removed]",
      "text/plain": [
       "<Figure size 600x300 with 1 Axes>"
      ]
     },
     "metadata": {},
     "output_type": "display_data"
    }
   ],
   "source": [
    "for col in temp.columns[0:-1]:\n",
    "    plot_feature_vs_target(temp,col,'target')"
   ]
  },
  {
   "cell_type": "code",
   "execution_count": 60,
   "metadata": {
    "id": "_Vlh8usmE6In"
   },
   "outputs": [],
   "source": [
    "# <Student to fill this section>\n",
    "feature_n_insights = \"\"\"\n",
    "Wind speed has contains outliers, wind direction is uniformly spread and also seems to have a relation with target - slight change of wind direction on the days it rained on t+7th day.\n",
    "\"\"\""
   ]
  },
  {
   "cell_type": "code",
   "execution_count": 61,
   "metadata": {
    "id": "BNZGN3nrE6LJ"
   },
   "outputs": [
    {
     "data": {
      "text/html": [
       "<p style=\"color:grey\">feature_n_insights</p><h3 font-size: 3em>\n",
       "Wind speed has contains outliers, wind direction is uniformly spread and also seems to have a relation with target - slight change of wind direction on the days it rained on t+7th day.\n",
       "</h3>"
      ],
      "text/plain": [
       "<IPython.core.display.HTML object>"
      ]
     },
     "metadata": {},
     "output_type": "display_data"
    }
   ],
   "source": [
    "# Do not modify this code\n",
    "print_tile(size=\"h3\", key='feature_n_insights', value=feature_n_insights)"
   ]
  },
  {
   "cell_type": "markdown",
   "metadata": {
    "id": "_NCwQQFkU3v5",
    "jp-MarkdownHeadingCollapsed": true
   },
   "source": [
    "---\n",
    "## D. Feature Selection\n"
   ]
  },
  {
   "cell_type": "markdown",
   "metadata": {
    "id": "0b8C9WON3Toe",
    "jp-MarkdownHeadingCollapsed": true
   },
   "source": [
    "### D.1 Correlation Matrix\n"
   ]
  },
  {
   "cell_type": "code",
   "execution_count": 62,
   "metadata": {
    "id": "zfC-DLKv4AuM"
   },
   "outputs": [
    {
     "data": {
      "text/plain": [
       "<Axes: >"
      ]
     },
     "execution_count": 62,
     "metadata": {},
     "output_type": "execute_result"
    },
    {
     "data": {
      "image/png": "[encoded data removed]",
      "text/plain": [
       "<Figure size 1200x1000 with 2 Axes>"
      ]
     },
     "metadata": {},
     "output_type": "display_data"
    }
   ],
   "source": [
    "corr = daily_df.corr()\n",
    "plt.figure(figsize=(12,10))\n",
    "sns.heatmap(corr, annot=True, fmt=\".2f\", cmap=\"coolwarm\")"
   ]
  },
  {
   "cell_type": "code",
   "execution_count": 63,
   "metadata": {
    "id": "Z9myLlFZFQXj"
   },
   "outputs": [],
   "source": [
    "# <Student to fill this section>\n",
    "feature_selection_1_insights = \"\"\"\n",
    "Multicollinearity observed for some features. There doesn't seem to be direct relation with the target. Next, we try RFE to find any relation between target and features.\n",
    "\"\"\""
   ]
  },
  {
   "cell_type": "code",
   "execution_count": 64,
   "metadata": {
    "id": "937YFeqDFQgB"
   },
   "outputs": [
    {
     "data": {
      "text/html": [
       "<p style=\"color:grey\">feature_selection_1_insights</p><h3 font-size: 3em>\n",
       "Multicollinearity observed for some features. There doesn't seem to be direct relation with the target. Next, we try RFE to find any relation between target and features.\n",
       "</h3>"
      ],
      "text/plain": [
       "<IPython.core.display.HTML object>"
      ]
     },
     "metadata": {},
     "output_type": "display_data"
    }
   ],
   "source": [
    "# Do not modify this code\n",
    "print_tile(size=\"h3\", key='feature_selection_1_insights', value=feature_selection_1_insights)"
   ]
  },
  {
   "cell_type": "markdown",
   "metadata": {
    "id": "jqRcgUqu3ZuV",
    "jp-MarkdownHeadingCollapsed": true
   },
   "source": [
    "### D.2 Recursive Feature Elimination\n"
   ]
  },
  {
   "cell_type": "code",
   "execution_count": 65,
   "metadata": {
    "id": "dAPSiwcg3aJC"
   },
   "outputs": [
    {
     "name": "stdout",
     "output_type": "stream",
     "text": [
      "                       feature  importance\n",
      "3            sunshine_duration    0.153427\n",
      "7           wind_speed_10m_max    0.146421\n",
      "8  wind_direction_10m_dominant    0.144354\n",
      "2           temperature_2m_min    0.136838\n",
      "1           temperature_2m_max    0.129428\n",
      "0          temperature_2m_mean    0.124696\n",
      "4                     rain_sum    0.058191\n",
      "5            precipitation_sum    0.053819\n",
      "6          precipitation_hours    0.052827\n"
     ]
    }
   ],
   "source": [
    "from sklearn.ensemble import RandomForestClassifier\n",
    "from sklearn.feature_selection import RFE\n",
    "\n",
    "cols_to_drop = ['time', 'rain_or_not_7d']\n",
    "\n",
    "X = daily_df.drop(columns=cols_to_drop)\n",
    "y = daily_df['rain_or_not_7d']\n",
    "\n",
    "# Fit a RandomForest to get feature importances\n",
    "rf = RandomForestClassifier(n_estimators=100, random_state=42)\n",
    "rf.fit(X, y)\n",
    "\n",
    "# Create a dataframe of feature importances\n",
    "feat_imp = pd.DataFrame({\n",
    "    'feature': X.columns,\n",
    "    'importance': rf.feature_importances_\n",
    "}).sort_values(by='importance', ascending=False)\n",
    "\n",
    "# Choose a threshold (e.g., 0.01 for 1% importance)\n",
    "threshold = 0.01\n",
    "selected_features = feat_imp[feat_imp['importance'] >= threshold]['feature'].tolist()\n",
    "\n",
    "print(feat_imp)"
   ]
  },
  {
   "cell_type": "code",
   "execution_count": 66,
   "metadata": {
    "id": "CpQQodTW3a9v"
   },
   "outputs": [],
   "source": [
    "# <Student to fill this section>\n",
    "feature_selection_2_insights = \"\"\"\n",
    "Top 3 features explain almost 45% of target. We will move forward with all the features for now except last 3.\n",
    "\"\"\""
   ]
  },
  {
   "cell_type": "code",
   "execution_count": 67,
   "metadata": {
    "id": "HjN2qhDb3a0G"
   },
   "outputs": [
    {
     "data": {
      "text/html": [
       "<p style=\"color:grey\">feature_selection_2_insights</p><h3 font-size: 3em>\n",
       "Top 3 features explain almost 45% of target. We will move forward with all the features for now except last 3.\n",
       "</h3>"
      ],
      "text/plain": [
       "<IPython.core.display.HTML object>"
      ]
     },
     "metadata": {},
     "output_type": "display_data"
    }
   ],
   "source": [
    "# Do not modify this code\n",
    "print_tile(size=\"h3\", key='feature_selection_2_insights', value=feature_selection_2_insights)"
   ]
  },
  {
   "cell_type": "markdown",
   "metadata": {
    "id": "gS5-tS8_3ryn",
    "jp-MarkdownHeadingCollapsed": true
   },
   "source": [
    "### D.3 Final Selection of Features"
   ]
  },
  {
   "cell_type": "code",
   "execution_count": 68,
   "metadata": {
    "id": "zYY4u2063ioF"
   },
   "outputs": [
    {
     "data": {
      "text/plain": [
       "Index(['time', 'temperature_2m_mean', 'temperature_2m_max',\n",
       "       'temperature_2m_min', 'sunshine_duration', 'rain_sum',\n",
       "       'precipitation_sum', 'precipitation_hours', 'wind_speed_10m_max',\n",
       "       'wind_direction_10m_dominant', 'rain_or_not_7d'],\n",
       "      dtype='object')"
      ]
     },
     "execution_count": 68,
     "metadata": {},
     "output_type": "execute_result"
    }
   ],
   "source": [
    "daily_df.columns"
   ]
  },
  {
   "cell_type": "code",
   "execution_count": 69,
   "metadata": {
    "id": "-Blv0kUV3ib2"
   },
   "outputs": [],
   "source": [
    "features_list = [\n",
    "    'time', 'temperature_2m_min', 'temperature_2m_max',\n",
    "    'sunshine_duration', 'wind_speed_10m_max',\n",
    "    'wind_direction_10m_dominant', 'rain_or_not_7d'\n",
    "]\n",
    "\n",
    "# removed 'temperature_2m_mean' because of multicollinearity\n",
    "# removed 'rain_sum', 'precipitation_sum', 'precipitation_hours' becasue of data leakage possibility"
   ]
  },
  {
   "cell_type": "code",
   "execution_count": 70,
   "metadata": {},
   "outputs": [],
   "source": [
    "daily_df = daily_df[features_list]"
   ]
  },
  {
   "cell_type": "code",
   "execution_count": 71,
   "metadata": {
    "id": "-pxVH1r63vqu"
   },
   "outputs": [],
   "source": [
    "# <Student to fill this section>\n",
    "feature_selection_explanations = \"\"\"\n",
    "Given RFE and correlation matrix results, we decided to remove temperature_2m_mean because of multicollinearity. Three features- rain_sum, precipitation_sum and precipitation_hours are removed because they can cause data leakage.\n",
    "\"\"\""
   ]
  },
  {
   "cell_type": "code",
   "execution_count": 72,
   "metadata": {
    "id": "rHluIUmR3iO3"
   },
   "outputs": [
    {
     "data": {
      "text/html": [
       "<p style=\"color:grey\">feature_selection_explanations</p><h3 font-size: 3em>\n",
       "Given RFE and correlation matrix results, we decided to remove temperature_2m_mean because of multicollinearity. Three features- rain_sum, precipitation_sum and precipitation_hours are removed because they can cause data leakage.\n",
       "</h3>"
      ],
      "text/plain": [
       "<IPython.core.display.HTML object>"
      ]
     },
     "metadata": {},
     "output_type": "display_data"
    }
   ],
   "source": [
    "# Do not modify this code\n",
    "print_tile(size=\"h3\", key='feature_selection_explanations', value=feature_selection_explanations)"
   ]
  },
  {
   "cell_type": "markdown",
   "metadata": {
    "id": "j-nNSpJK0Rgu"
   },
   "source": [
    "---\n",
    "## E. Data Preparation"
   ]
  },
  {
   "cell_type": "markdown",
   "metadata": {
    "id": "EDtRq1990rcW",
    "jp-MarkdownHeadingCollapsed": true
   },
   "source": [
    "### E.1 Log transformation"
   ]
  },
  {
   "cell_type": "code",
   "execution_count": 73,
   "metadata": {
    "id": "AZN0u9DD0v5X"
   },
   "outputs": [],
   "source": [
    "from sklearn.pipeline import Pipeline\n",
    "from sklearn.preprocessing import FunctionTransformer, StandardScaler\n",
    "from sklearn.compose import ColumnTransformer"
   ]
  },
  {
   "cell_type": "code",
   "execution_count": 74,
   "metadata": {},
   "outputs": [],
   "source": [
    "log_features = ['temperature_2m_min', 'temperature_2m_max', 'sunshine_duration']\n",
    "\n",
    "log_transformer = Pipeline(steps=[\n",
    "    ('log', FunctionTransformer(func=lambda x: np.log1p(x), validate=False))\n",
    "])"
   ]
  },
  {
   "cell_type": "code",
   "execution_count": 75,
   "metadata": {
    "id": "eQGXvLtkFU9L"
   },
   "outputs": [],
   "source": [
    "# <Student to fill this section>\n",
    "data_cleaning_1_explanations = \"\"\"\n",
    "A log transformer pipeline is built to handle all the variables which require log transformation.\n",
    "It is applied on min and max temperatures, and sunshine duration because of their distribution, right skewed. Log transformation will scale down all the observations.\n",
    "\"\"\""
   ]
  },
  {
   "cell_type": "code",
   "execution_count": 76,
   "metadata": {
    "id": "MPuYme1uFU_4"
   },
   "outputs": [
    {
     "data": {
      "text/html": [
       "<p style=\"color:grey\">data_cleaning_1_explanations</p><h3 font-size: 3em>\n",
       "A log transformer pipeline is built to handle all the variables which require log transformation.\n",
       "It is applied on min and max temperatures, and sunshine duration because of their distribution, right skewed. Log transformation will scale down all the observations.\n",
       "</h3>"
      ],
      "text/plain": [
       "<IPython.core.display.HTML object>"
      ]
     },
     "metadata": {},
     "output_type": "display_data"
    }
   ],
   "source": [
    "# Do not modify this code\n",
    "print_tile(size=\"h3\", key='data_cleaning_1_explanations', value=data_cleaning_1_explanations)"
   ]
  },
  {
   "cell_type": "markdown",
   "metadata": {
    "id": "SxhDoAkw08Eb"
   },
   "source": [
    "### E.2 Standardization"
   ]
  },
  {
   "cell_type": "code",
   "execution_count": 77,
   "metadata": {
    "id": "OO5ITMDZ035_"
   },
   "outputs": [],
   "source": [
    "standard_features = ['wind_speed_10m_max', 'wind_direction_10m_dominant']"
   ]
  },
  {
   "cell_type": "code",
   "execution_count": 78,
   "metadata": {
    "id": "4OlbuimwVqjd"
   },
   "outputs": [],
   "source": [
    "standard_transformer = Pipeline(steps=[\n",
    "    ('scaler', StandardScaler())\n",
    "])"
   ]
  },
  {
   "cell_type": "code",
   "execution_count": 79,
   "metadata": {
    "id": "NoQ6IWoFFb1y"
   },
   "outputs": [],
   "source": [
    "# <Student to fill this section>\n",
    "data_cleaning_2_explanations = \"\"\"\n",
    "Wind speed and wind direction have outliers, hence a scalar transform is applied.\n",
    "\"\"\""
   ]
  },
  {
   "cell_type": "code",
   "execution_count": 80,
   "metadata": {
    "id": "n1NG6O-jFdOE"
   },
   "outputs": [
    {
     "data": {
      "text/html": [
       "<p style=\"color:grey\">data_cleaning_2_explanations</p><h3 font-size: 3em>\n",
       "Wind speed and wind direction have outliers, hence a scalar transform is applied.\n",
       "</h3>"
      ],
      "text/plain": [
       "<IPython.core.display.HTML object>"
      ]
     },
     "metadata": {},
     "output_type": "display_data"
    }
   ],
   "source": [
    "# Do not modify this code\n",
    "print_tile(size=\"h3\", key='data_cleaning_2_explanations', value=data_cleaning_2_explanations)"
   ]
  },
  {
   "cell_type": "markdown",
   "metadata": {
    "id": "ylQxO-4g03qH",
    "jp-MarkdownHeadingCollapsed": true
   },
   "source": [
    "### E.3 Feature Engineering"
   ]
  },
  {
   "cell_type": "code",
   "execution_count": 81,
   "metadata": {
    "id": "5VymIZpS1Ch7"
   },
   "outputs": [],
   "source": [
    "time_feature = ['time']"
   ]
  },
  {
   "cell_type": "code",
   "execution_count": 82,
   "metadata": {
    "id": "eGB_A6UsVu81"
   },
   "outputs": [],
   "source": [
    "time_transformer = FunctionTransformer(\n",
    "    lambda x: pd.DataFrame({\n",
    "        \"day\": pd.to_datetime(x.iloc[:, 0]).dt.day,\n",
    "        \"month\": pd.to_datetime(x.iloc[:, 0]).dt.month,\n",
    "        \"year\": pd.to_datetime(x.iloc[:, 0]).dt.year\n",
    "    }, index=x.index),\n",
    "    validate=False\n",
    ")"
   ]
  },
  {
   "cell_type": "code",
   "execution_count": 83,
   "metadata": {
    "id": "BHo46tqSFibl"
   },
   "outputs": [],
   "source": [
    "# <Student to fill this section>\n",
    "data_cleaning_3_explanations = \"\"\"\n",
    "Timestamp as such is useless, day, month and year is extracted from it to use it for model training.\n",
    "\"\"\""
   ]
  },
  {
   "cell_type": "code",
   "execution_count": 84,
   "metadata": {
    "id": "D1BIohZLFiiM"
   },
   "outputs": [
    {
     "data": {
      "text/html": [
       "<p style=\"color:grey\">data_cleaning_3_explanations</p><h3 font-size: 3em>\n",
       "Timestamp as such is useless, day, month and year is extracted from it to use it for model training.\n",
       "</h3>"
      ],
      "text/plain": [
       "<IPython.core.display.HTML object>"
      ]
     },
     "metadata": {},
     "output_type": "display_data"
    }
   ],
   "source": [
    "# Do not modify this code\n",
    "print_tile(size=\"h3\", key='data_cleaning_3_explanations', value=data_cleaning_3_explanations)"
   ]
  },
  {
   "cell_type": "markdown",
   "metadata": {
    "id": "w8pDuIcQVxgf",
    "jp-MarkdownHeadingCollapsed": true
   },
   "source": [
    "### E.4 Running the pipeline"
   ]
  },
  {
   "cell_type": "code",
   "execution_count": 85,
   "metadata": {
    "id": "L7MGT74hVxm2"
   },
   "outputs": [],
   "source": [
    "preprocessor = ColumnTransformer(\n",
    "    transformers=[\n",
    "        ('log', log_transformer, log_features),\n",
    "        ('time', time_transformer, time_feature),\n",
    "        ('standard', standard_transformer, standard_features)\n",
    "    ],\n",
    "    remainder='passthrough',\n",
    "    verbose_feature_names_out=False\n",
    ")"
   ]
  },
  {
   "cell_type": "code",
   "execution_count": 86,
   "metadata": {},
   "outputs": [],
   "source": [
    "transformer = preprocessor.fit_transform(daily_df)"
   ]
  },
  {
   "cell_type": "code",
   "execution_count": 87,
   "metadata": {},
   "outputs": [],
   "source": [
    "feature_names = []\n",
    "\n",
    "# log features\n",
    "feature_names += [f\"log_{col}\" for col in log_features]\n",
    "\n",
    "# time features\n",
    "feature_names += [\"day\", \"month\", \"year\"]\n",
    "\n",
    "# standardized features\n",
    "feature_names += [f\"scaled_{col}\" for col in standard_features]\n",
    "\n",
    "# passthrough columns\n",
    "passthrough_cols = [c for c in daily_df.columns if c not in log_features + standard_features + time_feature]\n",
    "feature_names += passthrough_cols"
   ]
  },
  {
   "cell_type": "code",
   "execution_count": 88,
   "metadata": {},
   "outputs": [],
   "source": [
    "df_eng = pd.DataFrame(\n",
    "    transformer,\n",
    "    columns=feature_names,\n",
    "    index=daily_df.index\n",
    ")"
   ]
  },
  {
   "cell_type": "code",
   "execution_count": 89,
   "metadata": {},
   "outputs": [
    {
     "data": {
      "text/html": [
       "<div>\n",
       "<style scoped>\n",
       "    .dataframe tbody tr th:only-of-type {\n",
       "        vertical-align: middle;\n",
       "    }\n",
       "\n",
       "    .dataframe tbody tr th {\n",
       "        vertical-align: top;\n",
       "    }\n",
       "\n",
       "    .dataframe thead th {\n",
       "        text-align: right;\n",
       "    }\n",
       "</style>\n",
       "<table border=\"1\" class=\"dataframe\">\n",
       "  <thead>\n",
       "    <tr style=\"text-align: right;\">\n",
       "      <th></th>\n",
       "      <th>log_temperature_2m_min</th>\n",
       "      <th>log_temperature_2m_max</th>\n",
       "      <th>log_sunshine_duration</th>\n",
       "      <th>day</th>\n",
       "      <th>month</th>\n",
       "      <th>year</th>\n",
       "      <th>scaled_wind_speed_10m_max</th>\n",
       "      <th>scaled_wind_direction_10m_dominant</th>\n",
       "      <th>rain_or_not_7d</th>\n",
       "    </tr>\n",
       "  </thead>\n",
       "  <tbody>\n",
       "    <tr>\n",
       "      <th>0</th>\n",
       "      <td>2.714695</td>\n",
       "      <td>3.306887</td>\n",
       "      <td>10.587347</td>\n",
       "      <td>14.0</td>\n",
       "      <td>9.0</td>\n",
       "      <td>2015.0</td>\n",
       "      <td>0.894342</td>\n",
       "      <td>1.240331</td>\n",
       "      <td>0.0</td>\n",
       "    </tr>\n",
       "    <tr>\n",
       "      <th>1</th>\n",
       "      <td>2.533697</td>\n",
       "      <td>2.985682</td>\n",
       "      <td>10.592377</td>\n",
       "      <td>15.0</td>\n",
       "      <td>9.0</td>\n",
       "      <td>2015.0</td>\n",
       "      <td>-0.681333</td>\n",
       "      <td>-0.139421</td>\n",
       "      <td>0.0</td>\n",
       "    </tr>\n",
       "    <tr>\n",
       "      <th>2</th>\n",
       "      <td>2.549445</td>\n",
       "      <td>2.879198</td>\n",
       "      <td>10.509526</td>\n",
       "      <td>16.0</td>\n",
       "      <td>9.0</td>\n",
       "      <td>2015.0</td>\n",
       "      <td>-0.428786</td>\n",
       "      <td>-0.072812</td>\n",
       "      <td>0.0</td>\n",
       "    </tr>\n",
       "    <tr>\n",
       "      <th>3</th>\n",
       "      <td>2.674149</td>\n",
       "      <td>2.895912</td>\n",
       "      <td>10.584249</td>\n",
       "      <td>17.0</td>\n",
       "      <td>9.0</td>\n",
       "      <td>2015.0</td>\n",
       "      <td>-0.417806</td>\n",
       "      <td>-0.006203</td>\n",
       "      <td>1.0</td>\n",
       "    </tr>\n",
       "    <tr>\n",
       "      <th>4</th>\n",
       "      <td>2.674149</td>\n",
       "      <td>2.890372</td>\n",
       "      <td>10.537378</td>\n",
       "      <td>18.0</td>\n",
       "      <td>9.0</td>\n",
       "      <td>2015.0</td>\n",
       "      <td>-0.889959</td>\n",
       "      <td>-0.472464</td>\n",
       "      <td>0.0</td>\n",
       "    </tr>\n",
       "  </tbody>\n",
       "</table>\n",
       "</div>"
      ],
      "text/plain": [
       "   log_temperature_2m_min  log_temperature_2m_max  log_sunshine_duration  \\\n",
       "0                2.714695                3.306887              10.587347   \n",
       "1                2.533697                2.985682              10.592377   \n",
       "2                2.549445                2.879198              10.509526   \n",
       "3                2.674149                2.895912              10.584249   \n",
       "4                2.674149                2.890372              10.537378   \n",
       "\n",
       "    day  month    year  scaled_wind_speed_10m_max  \\\n",
       "0  14.0    9.0  2015.0                   0.894342   \n",
       "1  15.0    9.0  2015.0                  -0.681333   \n",
       "2  16.0    9.0  2015.0                  -0.428786   \n",
       "3  17.0    9.0  2015.0                  -0.417806   \n",
       "4  18.0    9.0  2015.0                  -0.889959   \n",
       "\n",
       "   scaled_wind_direction_10m_dominant  rain_or_not_7d  \n",
       "0                            1.240331             0.0  \n",
       "1                           -0.139421             0.0  \n",
       "2                           -0.072812             0.0  \n",
       "3                           -0.006203             1.0  \n",
       "4                           -0.472464             0.0  "
      ]
     },
     "execution_count": 89,
     "metadata": {},
     "output_type": "execute_result"
    }
   ],
   "source": [
    "df_eng.head()"
   ]
  },
  {
   "cell_type": "code",
   "execution_count": 90,
   "metadata": {
    "id": "_x2xJAZ7Vxpb"
   },
   "outputs": [],
   "source": [
    "# <Student to fill this section>\n",
    "data_cleaning_4_explanations = \"\"\"\n",
    "All the transformers are ran in a pipeline, stored in a final dataframe.\n",
    "\"\"\""
   ]
  },
  {
   "cell_type": "code",
   "execution_count": 91,
   "metadata": {},
   "outputs": [
    {
     "data": {
      "text/html": [
       "<p style=\"color:grey\">data_cleaning_4_explanations</p><h3 font-size: 3em>\n",
       "All the transformers are ran in a pipeline, stored in a final dataframe.\n",
       "</h3>"
      ],
      "text/plain": [
       "<IPython.core.display.HTML object>"
      ]
     },
     "metadata": {},
     "output_type": "display_data"
    }
   ],
   "source": [
    "# Do not modify this code\n",
    "print_tile(size=\"h3\", key='data_cleaning_4_explanations', value=data_cleaning_4_explanations)"
   ]
  },
  {
   "cell_type": "markdown",
   "metadata": {
    "id": "N8MNBrC4Zgz6"
   },
   "source": [
    "---\n",
    "## G. Data Preparation for Modeling"
   ]
  },
  {
   "cell_type": "markdown",
   "metadata": {
    "id": "HbpTjW2GGkd8",
    "jp-MarkdownHeadingCollapsed": true
   },
   "source": [
    "### G.1 Split Datasets"
   ]
  },
  {
   "cell_type": "code",
   "execution_count": 92,
   "metadata": {
    "id": "kcJ8_kh6Gnjl"
   },
   "outputs": [],
   "source": [
    "# Compute split indices\n",
    "n = len(df_eng)\n",
    "train_end = int(0.7 * n)\n",
    "val_end = int(0.8 * n)  # 70% + 10% = 80%\n",
    "\n",
    "# Split\n",
    "train_df = df_eng.iloc[:train_end].reset_index(drop=True)\n",
    "val_df = df_eng.iloc[train_end:val_end].reset_index(drop=True)\n",
    "test_df = df_eng.iloc[val_end:].reset_index(drop=True)"
   ]
  },
  {
   "cell_type": "code",
   "execution_count": 93,
   "metadata": {},
   "outputs": [],
   "source": [
    "# Separate features and target\n",
    "target_col = 'rain_or_not_7d'\n",
    "\n",
    "X_train = train_df.drop(columns=[target_col])\n",
    "y_train = train_df[target_col]\n",
    "\n",
    "X_val = val_df.drop(columns=[target_col])\n",
    "y_val = val_df[target_col]\n",
    "\n",
    "X_test = test_df.drop(columns=[target_col])\n",
    "y_test = test_df[target_col]"
   ]
  },
  {
   "cell_type": "code",
   "execution_count": 94,
   "metadata": {},
   "outputs": [
    {
     "name": "stdout",
     "output_type": "stream",
     "text": [
      "Train: (2373, 8) (2373,)\n",
      "Validation: (339, 8) (339,)\n",
      "Test: (678, 8) (678,)\n"
     ]
    }
   ],
   "source": [
    "# Check sizes\n",
    "print(\"Train:\", X_train.shape, y_train.shape)\n",
    "print(\"Validation:\", X_val.shape, y_val.shape)\n",
    "print(\"Test:\", X_test.shape, y_test.shape)"
   ]
  },
  {
   "cell_type": "code",
   "execution_count": 95,
   "metadata": {
    "id": "dkvHE5g4F3IZ"
   },
   "outputs": [],
   "source": [
    "# <Student to fill this section>\n",
    "data_splitting_explanations = \"\"\"\n",
    "Time-based split preserves sequential order; the model sees past data first.\n",
    "70/10/20 split: train has majority of data, val for hyperparameter tuning, test for final evaluation.\n",
    "Resetting the index keeps things clean for downstream processing.\n",
    "\"\"\""
   ]
  },
  {
   "cell_type": "code",
   "execution_count": 96,
   "metadata": {
    "id": "vx4_g0pLF3Lg"
   },
   "outputs": [
    {
     "data": {
      "text/html": [
       "<p style=\"color:grey\">data_splitting_explanations</p><h3 font-size: 3em>\n",
       "Time-based split preserves sequential order; the model sees past data first.\n",
       "70/10/20 split: train has majority of data, val for hyperparameter tuning, test for final evaluation.\n",
       "Resetting the index keeps things clean for downstream processing.\n",
       "</h3>"
      ],
      "text/plain": [
       "<IPython.core.display.HTML object>"
      ]
     },
     "metadata": {},
     "output_type": "display_data"
    }
   ],
   "source": [
    "# Do not modify this code\n",
    "print_tile(size=\"h3\", key='data_splitting_explanations', value=data_splitting_explanations)"
   ]
  },
  {
   "cell_type": "markdown",
   "metadata": {
    "id": "JHJ25iRRG1Gb",
    "jp-MarkdownHeadingCollapsed": true
   },
   "source": [
    "### G.2 Transforming 2025 data using pipelines"
   ]
  },
  {
   "cell_type": "code",
   "execution_count": 97,
   "metadata": {},
   "outputs": [],
   "source": [
    "test_2025 = df[df['time'] > '2025-01-01'] # to be used later for the final predictions"
   ]
  },
  {
   "cell_type": "code",
   "execution_count": 98,
   "metadata": {},
   "outputs": [
    {
     "name": "stdout",
     "output_type": "stream",
     "text": [
      "(257, 11)\n",
      "(250, 11)\n"
     ]
    }
   ],
   "source": [
    "test_2025['rain_or_not_7d'] = (test_2025['rain_sum'].shift(-7) > 1).astype(int)\n",
    "print(test_2025.shape)\n",
    "\n",
    "# Drop the last 7 rows\n",
    "test_2025 = test_2025.iloc[:-7]\n",
    "print(test_2025.shape)"
   ]
  },
  {
   "cell_type": "code",
   "execution_count": 99,
   "metadata": {},
   "outputs": [],
   "source": [
    "test_2025 = test_2025[features_list]"
   ]
  },
  {
   "cell_type": "code",
   "execution_count": 100,
   "metadata": {},
   "outputs": [
    {
     "data": {
      "text/plain": [
       "(250, 7)"
      ]
     },
     "execution_count": 100,
     "metadata": {},
     "output_type": "execute_result"
    }
   ],
   "source": [
    "test_2025.shape"
   ]
  },
  {
   "cell_type": "code",
   "execution_count": 101,
   "metadata": {
    "id": "_PIDyg9OG17x"
   },
   "outputs": [],
   "source": [
    "# --- Apply preprocessing on test_2025 ---\n",
    "test_2025_transformed = preprocessor.fit_transform(test_2025)"
   ]
  },
  {
   "cell_type": "code",
   "execution_count": 102,
   "metadata": {
    "id": "Zy6_m4G2WFN5"
   },
   "outputs": [],
   "source": [
    "# Convert back to DataFrame with correct column names\n",
    "test_2025_final = pd.DataFrame(\n",
    "    test_2025_transformed,\n",
    "    columns=feature_names,\n",
    "    index=test_2025.index\n",
    ")"
   ]
  },
  {
   "cell_type": "code",
   "execution_count": 103,
   "metadata": {},
   "outputs": [],
   "source": [
    "# Rename columns to match your expected final schema\n",
    "test_2025_final.columns = [\n",
    "    \"log_temperature_2m_min\",\n",
    "    \"log_temperature_2m_max\",\n",
    "    \"log_sunshine_duration\",\n",
    "    \"day\",\n",
    "    \"month\",\n",
    "    \"year\",\n",
    "    \"scaled_wind_speed_10m_max\",\n",
    "    \"scaled_wind_direction_10m_dominant\",\n",
    "    \"rain_or_not_7d\"\n",
    "]"
   ]
  },
  {
   "cell_type": "code",
   "execution_count": 104,
   "metadata": {},
   "outputs": [],
   "source": [
    "# Split features and target\n",
    "X_test_2025 = test_2025_final.drop(columns=[\"rain_or_not_7d\"])\n",
    "y_test_2025 = test_2025_final[\"rain_or_not_7d\"]"
   ]
  },
  {
   "cell_type": "code",
   "execution_count": 105,
   "metadata": {},
   "outputs": [
    {
     "name": "stdout",
     "output_type": "stream",
     "text": [
      "(250, 8)\n",
      "(250,)\n"
     ]
    }
   ],
   "source": [
    "print(X_test_2025.shape)\n",
    "print(y_test_2025.shape)"
   ]
  },
  {
   "cell_type": "code",
   "execution_count": 106,
   "metadata": {
    "id": "XbWWDBacGn9n"
   },
   "outputs": [],
   "source": [
    "# <Student to fill this section>\n",
    "data_transformation_1_explanations = \"\"\"\n",
    "Same data transformations are applied to test_2025 data\n",
    "\"\"\""
   ]
  },
  {
   "cell_type": "code",
   "execution_count": 107,
   "metadata": {
    "id": "vepkbzldGn_8"
   },
   "outputs": [
    {
     "data": {
      "text/html": [
       "<p style=\"color:grey\">data_transformation_1_explanations</p><h3 font-size: 3em>\n",
       "Same data transformations are applied to test_2025 data\n",
       "</h3>"
      ],
      "text/plain": [
       "<IPython.core.display.HTML object>"
      ]
     },
     "metadata": {},
     "output_type": "display_data"
    }
   ],
   "source": [
    "# Do not modify this code\n",
    "print_tile(size=\"h3\", key='data_transformation_1_explanations', value=data_transformation_1_explanations)"
   ]
  },
  {
   "cell_type": "markdown",
   "metadata": {
    "id": "qIj277YWHdFk",
    "jp-MarkdownHeadingCollapsed": true
   },
   "source": [
    "---\n",
    "## H. Save Datasets\n",
    "\n",
    "> Do not change this code"
   ]
  },
  {
   "cell_type": "code",
   "execution_count": 108,
   "metadata": {
    "id": "uMNql0SzHhP2"
   },
   "outputs": [],
   "source": [
    "# Do not modify this code\n",
    "# Save training set\n",
    "try:\n",
    "  X_train.to_csv(at.folder_path / 'X_train.csv', index=False)\n",
    "  y_train.to_csv(at.folder_path / 'y_train.csv', index=False)\n",
    "\n",
    "  X_val.to_csv(at.folder_path / 'X_val.csv', index=False)\n",
    "  y_val.to_csv(at.folder_path / 'y_val.csv', index=False)\n",
    "\n",
    "  X_test.to_csv(at.folder_path / 'X_test.csv', index=False)\n",
    "  y_test.to_csv(at.folder_path / 'y_test.csv', index=False)\n",
    "except Exception as e:\n",
    "  print(e)"
   ]
  },
  {
   "cell_type": "code",
   "execution_count": 109,
   "metadata": {},
   "outputs": [],
   "source": [
    "# Do not modify this code\n",
    "# Save training set\n",
    "try:\n",
    "  X_test_2025.to_csv(at.folder_path / 'X_test_2025.csv', index=False)\n",
    "  y_test_2025.to_csv(at.folder_path / 'y_test_2025.csv', index=False)\n",
    "except Exception as e:\n",
    "  print(e)"
   ]
  },
  {
   "cell_type": "markdown",
   "metadata": {
    "id": "RtLjr7niHpNZ",
    "jp-MarkdownHeadingCollapsed": true
   },
   "source": [
    "---\n",
    "## I. Selection of Performance Metrics\n",
    "\n",
    "> Provide some explanations on why you believe the performance metrics you chose is appropriate\n"
   ]
  },
  {
   "cell_type": "code",
   "execution_count": 110,
   "metadata": {
    "id": "KV_pxLAiHxKW"
   },
   "outputs": [],
   "source": [
    "from sklearn.metrics import accuracy_score, precision_score, recall_score, f1_score, confusion_matrix, roc_auc_score\n",
    "def evaluate_classification(y_true, y_pred, y_proba=None):\n",
    "    acc = accuracy_score(y_true, y_pred)\n",
    "    prec = precision_score(y_true, y_pred)\n",
    "    rec = recall_score(y_true, y_pred)\n",
    "    f1 = f1_score(y_true, y_pred)\n",
    "    cm = confusion_matrix(y_true, y_pred)\n",
    "\n",
    "    print(f\"Accuracy : {acc:.4f}\")\n",
    "    print(f\"Precision: {prec:.4f}\")\n",
    "    print(f\"Recall   : {rec:.4f}\")\n",
    "    print(f\"F1 Score : {f1:.4f}\")\n",
    "    if y_proba is not None:\n",
    "        auc = roc_auc_score(y_true, y_proba)\n",
    "        print(f\"AUROC    : {auc:.4f}\")\n",
    "    print(\"Confusion Matrix:\")\n",
    "    print(cm)\n",
    "    return acc, prec, rec, f1, cm"
   ]
  },
  {
   "cell_type": "code",
   "execution_count": 111,
   "metadata": {
    "id": "kC949nluHR5s"
   },
   "outputs": [],
   "source": [
    "# <Student to fill this section>\n",
    "performance_metrics_explanations = \"\"\"\n",
    "Accuracy: overall correctness\n",
    "\n",
    "Precision & Recall: important if rain class is rare\n",
    "\n",
    "F1 Score: balances precision and recall\n",
    "\n",
    "AUROC: evaluates the model’s ranking ability independent of threshold\n",
    "\"\"\""
   ]
  },
  {
   "cell_type": "code",
   "execution_count": 112,
   "metadata": {
    "id": "wABRzU2sHR8j"
   },
   "outputs": [
    {
     "data": {
      "text/html": [
       "<p style=\"color:grey\">performance_metrics_explanations</p><h3 font-size: 3em>\n",
       "Accuracy: overall correctness\n",
       "\n",
       "Precision & Recall: important if rain class is rare\n",
       "\n",
       "F1 Score: balances precision and recall\n",
       "\n",
       "AUROC: evaluates the model’s ranking ability independent of threshold\n",
       "</h3>"
      ],
      "text/plain": [
       "<IPython.core.display.HTML object>"
      ]
     },
     "metadata": {},
     "output_type": "display_data"
    }
   ],
   "source": [
    "# Do not modify this code\n",
    "print_tile(size=\"h3\", key='performance_metrics_explanations', value=performance_metrics_explanations)"
   ]
  },
  {
   "cell_type": "markdown",
   "metadata": {
    "id": "ZpxjwSDYIJy6"
   },
   "source": [
    "## J. Model Training"
   ]
  },
  {
   "cell_type": "markdown",
   "metadata": {
    "id": "_XBy7-9PIVcU"
   },
   "source": [
    "### J.1 Import Algorithm - Logistic Regression\n",
    "\n",
    "> Provide some explanations on why you believe this algorithm is a good fit\n"
   ]
  },
  {
   "cell_type": "code",
   "execution_count": 113,
   "metadata": {
    "id": "diUB08xMIOuS"
   },
   "outputs": [],
   "source": [
    "from sklearn.linear_model import LogisticRegression\n",
    "from sklearn.model_selection import GridSearchCV"
   ]
  },
  {
   "cell_type": "code",
   "execution_count": 114,
   "metadata": {
    "id": "GIWOpv6CGUTE"
   },
   "outputs": [],
   "source": [
    "# <Student to fill this section>\n",
    "algorithm_selection_explanations = \"\"\"\n",
    "Provide some explanations on why you believe this algorithm is a good fit\n",
    "\"\"\""
   ]
  },
  {
   "cell_type": "code",
   "execution_count": 115,
   "metadata": {
    "id": "N4yogQ9aGUVe"
   },
   "outputs": [
    {
     "data": {
      "text/html": [
       "<p style=\"color:grey\">algorithm_selection_explanations</p><h3 font-size: 3em>\n",
       "Provide some explanations on why you believe this algorithm is a good fit\n",
       "</h3>"
      ],
      "text/plain": [
       "<IPython.core.display.HTML object>"
      ]
     },
     "metadata": {},
     "output_type": "display_data"
    }
   ],
   "source": [
    "# Do not modify this code\n",
    "print_tile(size=\"h3\", key='algorithm_selection_explanations', value=algorithm_selection_explanations)"
   ]
  },
  {
   "cell_type": "markdown",
   "metadata": {
    "id": "0ks_MmM2mCfm"
   },
   "source": [
    "### J.2 Set Hyperparameters\n",
    "\n",
    "> Provide some explanations on why you believe this algorithm is a good fit\n"
   ]
  },
  {
   "cell_type": "code",
   "execution_count": 116,
   "metadata": {
    "id": "NUswpGVLmDXl"
   },
   "outputs": [],
   "source": [
    "# Define pipeline with only classifier (data is already preprocessed)\n",
    "lr_pipeline = Pipeline([\n",
    "    ('classifier', LogisticRegression(solver='liblinear', random_state=42))\n",
    "])\n",
    "\n",
    "# Hyperparameter grid for tuning\n",
    "param_grid = {\n",
    "    'classifier__C': [0.01, 0.1, 1.0, 10.0],\n",
    "    'classifier__penalty': ['l1', 'l2'],\n",
    "    'classifier__class_weight': [None, 'balanced']\n",
    "}\n",
    "\n",
    "# GridSearchCV for tuning\n",
    "lr_tuned = GridSearchCV(\n",
    "    lr_pipeline,\n",
    "    param_grid=param_grid,\n",
    "    cv=5,\n",
    "    scoring='roc_auc',  # optimize AUROC\n",
    "    n_jobs=-1,\n",
    "    verbose=1\n",
    ")"
   ]
  },
  {
   "cell_type": "code",
   "execution_count": 117,
   "metadata": {
    "id": "crG_Bm72HfL-"
   },
   "outputs": [],
   "source": [
    "# <Student to fill this section>\n",
    "hyperparameters_selection_explanations = \"\"\"\n",
    "Only the classifier is in the pipeline since features are already transformed.\n",
    "\n",
    "Tuning uses AUROC because rain/no-rain is likely imbalanced.\n",
    "\"\"\""
   ]
  },
  {
   "cell_type": "code",
   "execution_count": 118,
   "metadata": {
    "id": "k0uqlRCVHfQI"
   },
   "outputs": [
    {
     "data": {
      "text/html": [
       "<p style=\"color:grey\">hyperparameters_selection_explanations</p><h3 font-size: 3em>\n",
       "Only the classifier is in the pipeline since features are already transformed.\n",
       "\n",
       "Tuning uses AUROC because rain/no-rain is likely imbalanced.\n",
       "</h3>"
      ],
      "text/plain": [
       "<IPython.core.display.HTML object>"
      ]
     },
     "metadata": {},
     "output_type": "display_data"
    }
   ],
   "source": [
    "# Do not modify this code\n",
    "print_tile(size=\"h3\", key='hyperparameters_selection_explanations', value=hyperparameters_selection_explanations)"
   ]
  },
  {
   "cell_type": "markdown",
   "metadata": {
    "id": "VDjdjQjFmkLe"
   },
   "source": [
    "### J.3 Fit Model"
   ]
  },
  {
   "cell_type": "code",
   "execution_count": 119,
   "metadata": {
    "id": "0Ub3Nrdgmm2N"
   },
   "outputs": [
    {
     "name": "stdout",
     "output_type": "stream",
     "text": [
      "Fitting 5 folds for each of 16 candidates, totalling 80 fits\n",
      "Best parameters: {'classifier__C': 0.1, 'classifier__class_weight': 'balanced', 'classifier__penalty': 'l1'}\n"
     ]
    }
   ],
   "source": [
    "# Fit logistic regression on training data\n",
    "# Fit tuned pipeline to the training data\n",
    "lr_tuned.fit(X_train, y_train)\n",
    "\n",
    "# Check best hyperparameters\n",
    "print(\"Best parameters:\", lr_tuned.best_params_)"
   ]
  },
  {
   "cell_type": "markdown",
   "metadata": {
    "id": "q43YtqpdeniY"
   },
   "source": [
    "### J.4 Model Technical Performance\n",
    "\n",
    "> Provide some explanations on model performance\n"
   ]
  },
  {
   "cell_type": "code",
   "execution_count": 120,
   "metadata": {
    "id": "x1Q3oxoNhez5"
   },
   "outputs": [
    {
     "name": "stdout",
     "output_type": "stream",
     "text": [
      "Accuracy : 0.5693\n",
      "Precision: 0.4851\n",
      "Recall   : 0.4577\n",
      "F1 Score : 0.4710\n",
      "AUROC    : 0.5789\n",
      "Confusion Matrix:\n",
      "[[128  69]\n",
      " [ 77  65]]\n",
      "Accuracy : 0.5944\n",
      "Precision: 0.4105\n",
      "Recall   : 0.5223\n",
      "F1 Score : 0.4597\n",
      "AUROC    : 0.6054\n",
      "Confusion Matrix:\n",
      "[[286 168]\n",
      " [107 117]]\n"
     ]
    },
    {
     "data": {
      "text/plain": [
       "(0.5943952802359882,\n",
       " np.float64(0.4105263157894737),\n",
       " np.float64(0.5223214285714286),\n",
       " np.float64(0.45972495088408644),\n",
       " array([[286, 168],\n",
       "        [107, 117]]))"
      ]
     },
     "execution_count": 120,
     "metadata": {},
     "output_type": "execute_result"
    }
   ],
   "source": [
    "# Validation set evaluation\n",
    "y_val_pred = lr_tuned.predict(X_val)\n",
    "y_val_proba = lr_tuned.predict_proba(X_val)[:, 1]  # probability for class 1\n",
    "evaluate_classification(y_val, y_val_pred, y_val_proba)\n",
    "\n",
    "# Test set evaluation\n",
    "y_test_pred = lr_tuned.predict(X_test)\n",
    "y_test_proba = lr_tuned.predict_proba(X_test)[:, 1]\n",
    "evaluate_classification(y_test, y_test_pred, y_test_proba)"
   ]
  },
  {
   "cell_type": "code",
   "execution_count": 121,
   "metadata": {
    "id": "_YbQldshHk_3"
   },
   "outputs": [],
   "source": [
    "# <Student to fill this section>\n",
    "model_performance_explanations = \"\"\"\n",
    "Provide some explanations on model performance\n",
    "\"\"\""
   ]
  },
  {
   "cell_type": "code",
   "execution_count": 122,
   "metadata": {
    "id": "-MkLnLzVHlDO"
   },
   "outputs": [
    {
     "data": {
      "text/html": [
       "<p style=\"color:grey\">model_performance_explanations</p><h3 font-size: 3em>\n",
       "Provide some explanations on model performance\n",
       "</h3>"
      ],
      "text/plain": [
       "<IPython.core.display.HTML object>"
      ]
     },
     "metadata": {},
     "output_type": "display_data"
    }
   ],
   "source": [
    "# Do not modify this code\n",
    "print_tile(size=\"h3\", key='model_performance_explanations', value=model_performance_explanations)"
   ]
  },
  {
   "cell_type": "markdown",
   "metadata": {
    "id": "W1HgZMPcmtu7"
   },
   "source": [
    "### J.5 Business Impact from Current Model Performance\n",
    "\n",
    "> Provide some analysis on the model impacts from the business point of view\n"
   ]
  },
  {
   "cell_type": "code",
   "execution_count": 123,
   "metadata": {
    "id": "XGq2RWyqmuKM"
   },
   "outputs": [],
   "source": [
    "# <Student to fill this section>"
   ]
  },
  {
   "cell_type": "code",
   "execution_count": 124,
   "metadata": {
    "id": "7bcCHiP-Hozj"
   },
   "outputs": [],
   "source": [
    "# <Student to fill this section>\n",
    "business_impacts_explanations = \"\"\"\n",
    "Interpret the results of the experiments related to the business objective set earlier. Estimate the impacts of the incorrect results for the business (some results may have more impact compared to others)\n",
    "\"\"\""
   ]
  },
  {
   "cell_type": "code",
   "execution_count": 125,
   "metadata": {
    "id": "RQ3lJGAnHo3O"
   },
   "outputs": [
    {
     "data": {
      "text/html": [
       "<p style=\"color:grey\">business_impacts_explanations</p><h3 font-size: 3em>\n",
       "Interpret the results of the experiments related to the business objective set earlier. Estimate the impacts of the incorrect results for the business (some results may have more impact compared to others)\n",
       "</h3>"
      ],
      "text/plain": [
       "<IPython.core.display.HTML object>"
      ]
     },
     "metadata": {},
     "output_type": "display_data"
    }
   ],
   "source": [
    "# Do not modify this code\n",
    "print_tile(size=\"h3\", key='business_impacts_explanations', value=business_impacts_explanations)"
   ]
  },
  {
   "cell_type": "markdown",
   "metadata": {
    "jp-MarkdownHeadingCollapsed": true
   },
   "source": [
    "### J.6 Import Algorithm - Random Forest Classifier"
   ]
  },
  {
   "cell_type": "code",
   "execution_count": 126,
   "metadata": {},
   "outputs": [],
   "source": [
    "from sklearn.ensemble import RandomForestClassifier"
   ]
  },
  {
   "cell_type": "markdown",
   "metadata": {
    "jp-MarkdownHeadingCollapsed": true
   },
   "source": [
    "### J.7 Set Hyperparameters"
   ]
  },
  {
   "cell_type": "code",
   "execution_count": 127,
   "metadata": {},
   "outputs": [],
   "source": [
    "from sklearn.model_selection import RandomizedSearchCV\n",
    "from scipy.stats import randint\n",
    "\n",
    "# Define the base pipeline\n",
    "rf_pipeline = Pipeline([\n",
    "    ('rf', RandomForestClassifier(random_state=42))\n",
    "])\n",
    "\n",
    "# Hyperparameter search space\n",
    "param_dist = {\n",
    "    'rf__n_estimators': [50, 300],\n",
    "    'rf__max_depth': randint(3, 15),\n",
    "    'rf__min_samples_split': randint(2, 10),\n",
    "    'rf__min_samples_leaf': randint(1, 5),\n",
    "    'rf__max_features': ['auto', 'sqrt', 'log2']\n",
    "}\n",
    "\n",
    "# Randomized search\n",
    "rf_random_search = RandomizedSearchCV(\n",
    "    estimator=rf_pipeline,\n",
    "    param_distributions=param_dist,\n",
    "    n_iter=20,              # number of random combinations\n",
    "    scoring='roc_auc',      # AUROC as requested\n",
    "    cv=5,                   # 5-fold cross-validation\n",
    "    verbose=1,\n",
    "    n_jobs=-1,\n",
    "    random_state=42\n",
    ")\n"
   ]
  },
  {
   "cell_type": "markdown",
   "metadata": {
    "jp-MarkdownHeadingCollapsed": true
   },
   "source": [
    "### J.8 Fit Model"
   ]
  },
  {
   "cell_type": "code",
   "execution_count": 128,
   "metadata": {},
   "outputs": [
    {
     "name": "stdout",
     "output_type": "stream",
     "text": [
      "Fitting 5 folds for each of 20 candidates, totalling 100 fits\n",
      "Best Random Forest params: {'rf__max_depth': 5, 'rf__max_features': 'sqrt', 'rf__min_samples_leaf': 1, 'rf__min_samples_split': 5, 'rf__n_estimators': 300}\n"
     ]
    }
   ],
   "source": [
    "# Fit on training set\n",
    "rf_random_search.fit(X_train, y_train)\n",
    "\n",
    "# Best estimator after tuning\n",
    "best_rf = rf_random_search.best_estimator_\n",
    "\n",
    "print(\"Best Random Forest params:\", rf_random_search.best_params_)"
   ]
  },
  {
   "cell_type": "markdown",
   "metadata": {},
   "source": [
    "### J.9 Model Technical Performance"
   ]
  },
  {
   "cell_type": "code",
   "execution_count": 129,
   "metadata": {},
   "outputs": [
    {
     "name": "stdout",
     "output_type": "stream",
     "text": [
      "Accuracy : 0.6018\n",
      "Precision: 0.5714\n",
      "Recall   : 0.1972\n",
      "F1 Score : 0.2932\n",
      "AUROC    : 0.5363\n",
      "Confusion Matrix:\n",
      "[[176  21]\n",
      " [114  28]]\n",
      "Accuracy : 0.6342\n",
      "Precision: 0.4167\n",
      "Recall   : 0.2679\n",
      "F1 Score : 0.3261\n",
      "AUROC    : 0.6084\n",
      "Confusion Matrix:\n",
      "[[370  84]\n",
      " [164  60]]\n"
     ]
    },
    {
     "data": {
      "text/plain": [
       "(0.6342182890855457,\n",
       " np.float64(0.4166666666666667),\n",
       " np.float64(0.26785714285714285),\n",
       " np.float64(0.32608695652173914),\n",
       " array([[370,  84],\n",
       "        [164,  60]]))"
      ]
     },
     "execution_count": 129,
     "metadata": {},
     "output_type": "execute_result"
    }
   ],
   "source": [
    "# Predict on validation set\n",
    "y_val_pred = best_rf.predict(X_val)\n",
    "y_val_prob = best_rf.predict_proba(X_val)[:, 1]\n",
    "\n",
    "# Evaluate on validation set\n",
    "evaluate_classification(y_val, y_val_pred, y_val_prob)\n",
    "\n",
    "# Predict on test set\n",
    "y_test_pred = best_rf.predict(X_test)\n",
    "y_test_prob = best_rf.predict_proba(X_test)[:, 1]\n",
    "\n",
    "# Evaluate on test set\n",
    "evaluate_classification(y_test, y_test_pred, y_test_prob)"
   ]
  },
  {
   "cell_type": "code",
   "execution_count": 144,
   "metadata": {},
   "outputs": [
    {
     "name": "stdout",
     "output_type": "stream",
     "text": [
      "Random Forest model saved successfully at: C:\\Users\\lenovo\\Desktop\\Labs Sem 2\\Adv ML\\at2\\saurabh-at2-eda-model\\models\\rain_or_not\\best_rf_model.pkl\n"
     ]
    }
   ],
   "source": [
    "from pathlib import Path\n",
    "import joblib\n",
    "import os\n",
    "\n",
    "# For Jupyter, safer way:\n",
    "project_root = Path().resolve().parents[1]  # this points to saurabh-at2-eda-model\n",
    "\n",
    "# Now build model path\n",
    "model_path = project_root / \"models\" / \"rain_or_not\"\n",
    "model_path.mkdir(parents=True, exist_ok=True)\n",
    "\n",
    "\n",
    "# ---------------------------\n",
    "# Save Random Forest Classifier\n",
    "# ---------------------------\n",
    "best_rf_model = best_rf  \n",
    "rf_filename = os.path.join(model_path, \"best_rf_model.pkl\")\n",
    "joblib.dump(best_rf_model, rf_filename)\n",
    "print(f\"Random Forest model saved successfully at: {rf_filename}\")"
   ]
  }
 ],
 "metadata": {
  "colab": {
   "provenance": [
    {
     "file_id": "13MHsQlFmfLuY1rWjvW73WSaDUaRPENW4",
     "timestamp": 1680399055727
    }
   ],
   "toc_visible": true
  },
  "kernelspec": {
   "display_name": "Python 3 (ipykernel)",
   "language": "python",
   "name": "python3"
  },
  "language_info": {
   "codemirror_mode": {
    "name": "ipython",
    "version": 3
   },
   "file_extension": ".py",
   "mimetype": "text/x-python",
   "name": "python",
   "nbconvert_exporter": "python",
   "pygments_lexer": "ipython3",
   "version": "3.11.4"
  }
 },
 "nbformat": 4,
 "nbformat_minor": 4
}
